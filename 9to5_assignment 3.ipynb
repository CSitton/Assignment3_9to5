{
    "metadata": {
        "kernelspec": {
            "name": "SQL",
            "display_name": "SQL",
            "language": "sql"
        },
        "language_info": {
            "name": "sql",
            "version": ""
        },
        "extensions": {
            "azuredatastudio": {
                "version": 1,
                "views": []
            }
        }
    },
    "nbformat_minor": 2,
    "nbformat": 4,
    "cells": [
        {
            "cell_type": "markdown",
            "source": [
                "# <span style=\"font-size: 20pt; font-family: Montserrat, sans-serif; color: rgb(92, 148, 206); background-color: rgb(255, 255, 255); font-weight: 700; font-variant-east-asian: normal; vertical-align: baseline; white-space: pre-wrap;\">Graded Assignment 3: 9 to 5</span>\n",
                "\n",
                "  \n",
                "\n",
                "<span style=\"font-size: 10pt; font-family: &quot;Times New Roman&quot;; color: rgb(102, 102, 102); background-color: rgb(255, 255, 255); font-variant-east-asian: normal; vertical-align: baseline; white-space: pre-wrap;\">Time to show off your SQL skills! For each question, copy the SQL query you used and make note of the answer.</span>\n",
                "\n",
                "  \n",
                "\n",
                "## <span style=\"font-size: 12pt; font-family: Montserrat, sans-serif; color: rgb(53, 74, 95); background-color: rgb(255, 255, 255); font-weight: 700; font-variant-east-asian: normal; vertical-align: baseline; white-space: pre-wrap;\">The Dataset</span>\n",
                "\n",
                "<span style=\"font-size: 10pt; font-family: &quot;Times New Roman&quot;; color: rgb(102, 102, 102); background-color: rgb(255, 255, 255); font-variant-east-asian: normal; vertical-align: baseline; white-space: pre-wrap;\">For this assignment, you will be using the Bureau of Labor Statistics (BLS) Current Employment Survey (CES) results which can be found on</span> [<span style=\"font-size: 10pt; font-family: &quot;Times New Roman&quot;; color: rgb(17, 85, 204); background-color: rgb(255, 255, 255); font-variant-east-asian: normal; text-decoration-line: underline; vertical-align: baseline; white-space: pre-wrap;\">Kaggle</span>](https://www.kaggle.com/bls/employment)<span style=\"font-size: 10pt; font-family: &quot;Times New Roman&quot;; color: rgb(102, 102, 102); background-color: rgb(255, 255, 255); font-variant-east-asian: normal; vertical-align: baseline; white-space: pre-wrap;\">.</span>\n",
                "\n",
                "  \n",
                "\n",
                "## <span style=\"font-size: 12pt; font-family: Montserrat, sans-serif; color: rgb(53, 74, 95); background-color: rgb(255, 255, 255); font-weight: 700; font-variant-east-asian: normal; vertical-align: baseline; white-space: pre-wrap;\">Business Issue</span>\n",
                "\n",
                "<span style=\"font-size: 10pt; font-family: &quot;Times New Roman&quot;; color: rgb(102, 102, 102); background-color: rgb(255, 255, 255); font-variant-east-asian: normal; vertical-align: baseline; white-space: pre-wrap;\">You are working for the Bureau of Labor Statistics with the United States government and have been approached by your boss with an important meeting request. You have been asked by your supervisor to meet with Dolly Parton whose nonprofit is looking to shed light on the state of employment in the United States. As part of the 9 to 5 project, their research is focused on production and nonsupervisory employees and how those employees fare compared to all employees in the United States. While the data the BLS collects from the CES is publicly available, Dolly Parton and her colleagues need your assistance navigating the thousands of rows in each table in LaborStatisticsDB.</span>\n",
                "\n",
                "  \n",
                "\n",
                "## <span style=\"font-size: 12pt; font-family: Montserrat, sans-serif; color: rgb(53, 74, 95); background-color: rgb(255, 255, 255); font-weight: 700; font-variant-east-asian: normal; vertical-align: baseline; white-space: pre-wrap;\">About the Dataset</span>\n",
                "\n",
                "<span style=\"font-size: 10pt; font-family: &quot;Times New Roman&quot;; color: rgb(102, 102, 102); background-color: rgb(255, 255, 255); font-variant-east-asian: normal; vertical-align: baseline; white-space: pre-wrap;\">This dataset comes directly from the Bureau of Labor Statistics’ Current Employment Survey (CES). Here are some things you need to know:</span>\n",
                "\n",
                "1. <span style=\"font-size: 10pt; background-color: rgb(255, 255, 255); font-variant-east-asian: normal; vertical-align: baseline; white-space: pre-wrap;\">The industry table contains an NAICS code. This is different from the industry code. NAICS stands for North American Industry Classification System.</span>\n",
                "    \n",
                "2. <span style=\"font-size: 10pt; background-color: rgb(255, 255, 255); font-variant-east-asian: normal; vertical-align: baseline; white-space: pre-wrap;\">Series ID is composed of multiple different codes. CES stands for Current Employment Survey, the name of the survey which collected the data. The industry code as specified by the BLS and the data type code as specified in the datatype table.</span>\n",
                "    \n",
                "\n",
                "  \n",
                "\n",
                "## <span style=\"font-size: 12pt; font-family: Montserrat, sans-serif; color: rgb(53, 74, 95); background-color: rgb(255, 255, 255); font-weight: 700; font-variant-east-asian: normal; vertical-align: baseline; white-space: pre-wrap;\">Set Up</span>\n",
                "\n",
                "<span style=\"font-size: 10pt; font-family: &quot;Times New Roman&quot;; color: rgb(102, 102, 102); background-color: rgb(255, 255, 255); font-variant-east-asian: normal; vertical-align: baseline; white-space: pre-wrap;\">To connect to the database, use the same connection info used during the SQL lessons.&nbsp;</span> \n",
                "\n",
                "<span style=\"font-size: 10pt; font-family: &quot;Times New Roman&quot;; color: rgb(102, 102, 102); background-color: rgb(255, 255, 255); font-variant-east-asian: normal; vertical-align: baseline; white-space: pre-wrap;\">For the assignment, we will be using the LaborStatisticsDB database.</span>\n",
                "\n",
                "  \n",
                "\n",
                "## <span style=\"font-size: 12pt; font-family: Montserrat, sans-serif; color: rgb(53, 74, 95); background-color: rgb(255, 255, 255); font-weight: 700; font-variant-east-asian: normal; vertical-align: baseline; white-space: pre-wrap;\">Database Exploration</span>\n",
                "\n",
                "<span style=\"font-size: 10pt; font-family: &quot;Times New Roman&quot;; color: rgb(102, 102, 102); background-color: rgb(255, 255, 255); font-variant-east-asian: normal; vertical-align: baseline; white-space: pre-wrap;\">To start with, let’s get to know the database further.</span>\n",
                "\n",
                "1. <span style=\"background-color: rgb(255, 255, 255); color: rgb(102, 102, 102); font-family: &quot;Times New Roman&quot;; font-size: 10pt; white-space: pre-wrap;\">Use this space to make note of each table in the database, the columns within each table, each column’s data type, and how the tables are connected. You can write this down or draw a diagram. Whatever method helps you get an understanding of what is going on with LaborStatisticsDB.</span>"
            ],
            "metadata": {
                "azdata_cell_guid": "28ea70c5-f0be-4197-b6c0-ade22886a708"
            },
            "attachments": {}
        },
        {
            "cell_type": "markdown",
            "source": [
                "To add a photo, diagram or document to your file, drop the file into the folder that holds this notebook.  Use the the link button to the right of the  \\</\\> symbol in the gray part of this cell, the link is just the name of your file."
            ],
            "metadata": {
                "azdata_cell_guid": "aeae906c-752c-49d3-b482-3ed6a4f54b6e"
            },
            "attachments": {}
        },
        {
            "cell_type": "code",
            "source": [
                "SELECT *\r\n",
                "FROM LaborStatisticsDB.dbo.supersector"
            ],
            "metadata": {
                "azdata_cell_guid": "dbf3633e-8503-49e6-b128-cf010d1558cf",
                "language": "sql"
            },
            "outputs": [
                {
                    "output_type": "display_data",
                    "data": {
                        "text/html": "(22 rows affected)"
                    },
                    "metadata": {}
                },
                {
                    "output_type": "display_data",
                    "data": {
                        "text/html": "Total execution time: 00:00:00.061"
                    },
                    "metadata": {}
                },
                {
                    "output_type": "execute_result",
                    "execution_count": 13,
                    "data": {
                        "application/vnd.dataresource+json": {
                            "schema": {
                                "fields": [
                                    {
                                        "name": "supersector_code"
                                    },
                                    {
                                        "name": "supersector_name"
                                    }
                                ]
                            },
                            "data": [
                                {
                                    "supersector_code": "0",
                                    "supersector_name": "Total nonfarm"
                                },
                                {
                                    "supersector_code": "5",
                                    "supersector_name": "Total private"
                                },
                                {
                                    "supersector_code": "6",
                                    "supersector_name": "Goods-producing"
                                },
                                {
                                    "supersector_code": "7",
                                    "supersector_name": "Service-providing"
                                },
                                {
                                    "supersector_code": "8",
                                    "supersector_name": "Private service-providing"
                                },
                                {
                                    "supersector_code": "10",
                                    "supersector_name": "Mining and logging"
                                },
                                {
                                    "supersector_code": "20",
                                    "supersector_name": "Construction"
                                },
                                {
                                    "supersector_code": "30",
                                    "supersector_name": "Manufacturing"
                                },
                                {
                                    "supersector_code": "31",
                                    "supersector_name": "Durable Goods"
                                },
                                {
                                    "supersector_code": "32",
                                    "supersector_name": "Nondurable Goods"
                                },
                                {
                                    "supersector_code": "40",
                                    "supersector_name": "Trade"
                                },
                                {
                                    "supersector_code": "41",
                                    "supersector_name": "Wholesale trade"
                                },
                                {
                                    "supersector_code": "42",
                                    "supersector_name": "Retail trade"
                                },
                                {
                                    "supersector_code": "43",
                                    "supersector_name": "Transportation and warehousing"
                                },
                                {
                                    "supersector_code": "44",
                                    "supersector_name": "Utilities"
                                },
                                {
                                    "supersector_code": "50",
                                    "supersector_name": "Information"
                                },
                                {
                                    "supersector_code": "55",
                                    "supersector_name": "Financial activities"
                                },
                                {
                                    "supersector_code": "60",
                                    "supersector_name": "Professional and business services"
                                },
                                {
                                    "supersector_code": "65",
                                    "supersector_name": "Education and health services"
                                },
                                {
                                    "supersector_code": "70",
                                    "supersector_name": "Leisure and hospitality"
                                },
                                {
                                    "supersector_code": "80",
                                    "supersector_name": "Other services"
                                },
                                {
                                    "supersector_code": "90",
                                    "supersector_name": "Government"
                                }
                            ]
                        },
                        "text/html": "<table><tr><th>supersector_code</th><th>supersector_name</th></tr><tr><td>0</td><td>Total nonfarm</td></tr><tr><td>5</td><td>Total private</td></tr><tr><td>6</td><td>Goods-producing</td></tr><tr><td>7</td><td>Service-providing</td></tr><tr><td>8</td><td>Private service-providing</td></tr><tr><td>10</td><td>Mining and logging</td></tr><tr><td>20</td><td>Construction</td></tr><tr><td>30</td><td>Manufacturing</td></tr><tr><td>31</td><td>Durable Goods</td></tr><tr><td>32</td><td>Nondurable Goods</td></tr><tr><td>40</td><td>Trade</td></tr><tr><td>41</td><td>Wholesale trade</td></tr><tr><td>42</td><td>Retail trade</td></tr><tr><td>43</td><td>Transportation and warehousing</td></tr><tr><td>44</td><td>Utilities</td></tr><tr><td>50</td><td>Information</td></tr><tr><td>55</td><td>Financial activities</td></tr><tr><td>60</td><td>Professional and business services</td></tr><tr><td>65</td><td>Education and health services</td></tr><tr><td>70</td><td>Leisure and hospitality</td></tr><tr><td>80</td><td>Other services</td></tr><tr><td>90</td><td>Government</td></tr></table>"
                    },
                    "metadata": {}
                }
            ],
            "execution_count": 13
        },
        {
            "cell_type": "markdown",
            "source": [
                "2. <span style=\"background-color: rgb(255, 255, 255); color: rgb(102, 102, 102); font-family: Arvo, serif; font-size: 10pt; white-space: pre-wrap;\">What is the datatype for women employees?</span>"
            ],
            "metadata": {
                "azdata_cell_guid": "01b111b7-baf1-4617-88bc-cd442826c9c9"
            },
            "attachments": {}
        },
        {
            "cell_type": "code",
            "source": [
                "SELECT *\r\n",
                "FROM datatype\r\n",
                "WHERE data_type_text LIKE '%women%'"
            ],
            "metadata": {
                "azdata_cell_guid": "02fa547c-0bb7-4a40-81c2-f5c05154df04",
                "language": "sql"
            },
            "outputs": [
                {
                    "output_type": "display_data",
                    "data": {
                        "text/html": "(2 rows affected)"
                    },
                    "metadata": {}
                },
                {
                    "output_type": "display_data",
                    "data": {
                        "text/html": "Total execution time: 00:00:00.087"
                    },
                    "metadata": {}
                },
                {
                    "output_type": "execute_result",
                    "metadata": {},
                    "execution_count": 1,
                    "data": {
                        "application/vnd.dataresource+json": {
                            "schema": {
                                "fields": [
                                    {
                                        "name": "data_type_code"
                                    },
                                    {
                                        "name": "data_type_text"
                                    }
                                ]
                            },
                            "data": [
                                {
                                    "data_type_code": "10",
                                    "data_type_text": "WOMEN EMPLOYEES"
                                },
                                {
                                    "data_type_code": "39",
                                    "data_type_text": "WOMEN EMPLOYEES-TO-ALL EMPLOYEES RATIO"
                                }
                            ]
                        },
                        "text/html": [
                            "<table>",
                            "<tr><th>data_type_code</th><th>data_type_text</th></tr>",
                            "<tr><td>10</td><td>WOMEN EMPLOYEES</td></tr>",
                            "<tr><td>39</td><td>WOMEN EMPLOYEES-TO-ALL EMPLOYEES RATIO</td></tr>",
                            "</table>"
                        ]
                    }
                }
            ],
            "execution_count": 1
        },
        {
            "cell_type": "markdown",
            "source": [
                "3. <span style=\"background-color: rgb(255, 255, 255); font-size: 10pt; white-space: pre-wrap; color: rgb(102, 102, 102); font-family: Arvo, serif;\">What is the series id for&nbsp; women employees in the commercial banking industry in the financial activities supersector?</span>"
            ],
            "metadata": {
                "azdata_cell_guid": "325f85cc-9545-47b3-b975-3aab6278e4ea"
            },
            "attachments": {}
        },
        {
            "cell_type": "code",
            "source": [
                "SELECT TOP 5*\r\n",
                "FROM series\r\n",
                "WHERE data_type_code = 10 AND industry_code =(\r\n",
                "    SELECT industry_code\r\n",
                "    FROM industry\r\n",
                "    WHERE industry_name LIKE '%commercial banking%'\r\n",
                ") AND supersector_code = (\r\n",
                "    SELECT supersector_code\r\n",
                "    FROM supersector\r\n",
                "    WHERE supersector_name LIKE '%financial%'\r\n",
                ")\r\n",
                "\r\n",
                "\r\n",
                "SELECT TOP 5*\r\n",
                "FROM supersector\r\n",
                "WHERE supersector_name LIKE '%financial%'\r\n",
                "\r\n",
                "SELECT TOP 5*\r\n",
                "FROM industry\r\n",
                "WHERE industry_name LIKE '%commercial banking%'\r\n",
                "\r\n",
                "\r\n",
                "SELECT TOP 50*\r\n",
                "FROM series\r\n",
                "WHERE series_title LIKE '%women%'\r\n",
                ""
            ],
            "metadata": {
                "azdata_cell_guid": "1315af1f-45f8-457d-8bbe-8e9f46303fca",
                "language": "sql"
            },
            "outputs": [
                {
                    "output_type": "display_data",
                    "data": {
                        "text/html": "(2 rows affected)"
                    },
                    "metadata": {}
                },
                {
                    "output_type": "display_data",
                    "data": {
                        "text/html": "(1 row affected)"
                    },
                    "metadata": {}
                },
                {
                    "output_type": "display_data",
                    "data": {
                        "text/html": "(1 row affected)"
                    },
                    "metadata": {}
                },
                {
                    "output_type": "display_data",
                    "data": {
                        "text/html": "(50 rows affected)"
                    },
                    "metadata": {}
                },
                {
                    "output_type": "display_data",
                    "data": {
                        "text/html": "Total execution time: 00:00:00.186"
                    },
                    "metadata": {}
                },
                {
                    "output_type": "execute_result",
                    "execution_count": 6,
                    "data": {
                        "application/vnd.dataresource+json": {
                            "schema": {
                                "fields": [
                                    {
                                        "name": "series_id"
                                    },
                                    {
                                        "name": "supersector_code"
                                    },
                                    {
                                        "name": "industry_code"
                                    },
                                    {
                                        "name": "data_type_code"
                                    },
                                    {
                                        "name": "seasonal"
                                    },
                                    {
                                        "name": "series_title"
                                    }
                                ]
                            },
                            "data": [
                                {
                                    "series_id": "CES5552211010",
                                    "supersector_code": "55",
                                    "industry_code": "55522110",
                                    "data_type_code": "10",
                                    "seasonal": "S",
                                    "series_title": "Women employees"
                                },
                                {
                                    "series_id": "CEU5552211010",
                                    "supersector_code": "55",
                                    "industry_code": "55522110",
                                    "data_type_code": "10",
                                    "seasonal": "U",
                                    "series_title": "Women employees"
                                }
                            ]
                        },
                        "text/html": "<table><tr><th>series_id</th><th>supersector_code</th><th>industry_code</th><th>data_type_code</th><th>seasonal</th><th>series_title</th></tr><tr><td>CES5552211010</td><td>55</td><td>55522110</td><td>10</td><td>S</td><td>Women employees</td></tr><tr><td>CEU5552211010</td><td>55</td><td>55522110</td><td>10</td><td>U</td><td>Women employees</td></tr></table>"
                    },
                    "metadata": {}
                },
                {
                    "output_type": "execute_result",
                    "execution_count": 6,
                    "data": {
                        "application/vnd.dataresource+json": {
                            "schema": {
                                "fields": [
                                    {
                                        "name": "supersector_code"
                                    },
                                    {
                                        "name": "supersector_name"
                                    }
                                ]
                            },
                            "data": [
                                {
                                    "supersector_code": "55",
                                    "supersector_name": "Financial activities"
                                }
                            ]
                        },
                        "text/html": "<table><tr><th>supersector_code</th><th>supersector_name</th></tr><tr><td>55</td><td>Financial activities</td></tr></table>"
                    },
                    "metadata": {}
                },
                {
                    "output_type": "execute_result",
                    "execution_count": 6,
                    "data": {
                        "application/vnd.dataresource+json": {
                            "schema": {
                                "fields": [
                                    {
                                        "name": "id"
                                    },
                                    {
                                        "name": "industry_code"
                                    },
                                    {
                                        "name": "naics_code"
                                    },
                                    {
                                        "name": "publishing_status"
                                    },
                                    {
                                        "name": "industry_name"
                                    },
                                    {
                                        "name": "display_level"
                                    },
                                    {
                                        "name": "selectable"
                                    },
                                    {
                                        "name": "sort_sequence"
                                    }
                                ]
                            },
                            "data": [
                                {
                                    "id": "563",
                                    "industry_code": "55522110",
                                    "naics_code": "52211",
                                    "publishing_status": "A",
                                    "industry_name": "Commercial banking",
                                    "display_level": "6",
                                    "selectable": "T",
                                    "sort_sequence": "564"
                                }
                            ]
                        },
                        "text/html": "<table><tr><th>id</th><th>industry_code</th><th>naics_code</th><th>publishing_status</th><th>industry_name</th><th>display_level</th><th>selectable</th><th>sort_sequence</th></tr><tr><td>563</td><td>55522110</td><td>52211</td><td>A</td><td>Commercial banking</td><td>6</td><td>T</td><td>564</td></tr></table>"
                    },
                    "metadata": {}
                },
                {
                    "output_type": "execute_result",
                    "execution_count": 6,
                    "data": {
                        "application/vnd.dataresource+json": {
                            "schema": {
                                "fields": [
                                    {
                                        "name": "series_id"
                                    },
                                    {
                                        "name": "supersector_code"
                                    },
                                    {
                                        "name": "industry_code"
                                    },
                                    {
                                        "name": "data_type_code"
                                    },
                                    {
                                        "name": "seasonal"
                                    },
                                    {
                                        "name": "series_title"
                                    }
                                ]
                            },
                            "data": [
                                {
                                    "series_id": "CES0000000010",
                                    "supersector_code": "0",
                                    "industry_code": "00000000",
                                    "data_type_code": "10",
                                    "seasonal": "S",
                                    "series_title": "Women employees"
                                },
                                {
                                    "series_id": "CES0500000010",
                                    "supersector_code": "5",
                                    "industry_code": "05000000",
                                    "data_type_code": "10",
                                    "seasonal": "S",
                                    "series_title": "Women employees"
                                },
                                {
                                    "series_id": "CES0600000010",
                                    "supersector_code": "6",
                                    "industry_code": "06000000",
                                    "data_type_code": "10",
                                    "seasonal": "S",
                                    "series_title": "Women employees"
                                },
                                {
                                    "series_id": "CES0700000010",
                                    "supersector_code": "7",
                                    "industry_code": "07000000",
                                    "data_type_code": "10",
                                    "seasonal": "S",
                                    "series_title": "Women employees"
                                },
                                {
                                    "series_id": "CES0800000010",
                                    "supersector_code": "8",
                                    "industry_code": "08000000",
                                    "data_type_code": "10",
                                    "seasonal": "S",
                                    "series_title": "Women employees"
                                },
                                {
                                    "series_id": "CES1000000010",
                                    "supersector_code": "10",
                                    "industry_code": "10000000",
                                    "data_type_code": "10",
                                    "seasonal": "S",
                                    "series_title": "Women employees"
                                },
                                {
                                    "series_id": "CES1011330010",
                                    "supersector_code": "10",
                                    "industry_code": "10113300",
                                    "data_type_code": "10",
                                    "seasonal": "S",
                                    "series_title": "Women employees"
                                },
                                {
                                    "series_id": "CES1021000010",
                                    "supersector_code": "10",
                                    "industry_code": "10210000",
                                    "data_type_code": "10",
                                    "seasonal": "S",
                                    "series_title": "Women employees"
                                },
                                {
                                    "series_id": "CES1021100010",
                                    "supersector_code": "10",
                                    "industry_code": "10211000",
                                    "data_type_code": "10",
                                    "seasonal": "S",
                                    "series_title": "Women employees"
                                },
                                {
                                    "series_id": "CES1021200010",
                                    "supersector_code": "10",
                                    "industry_code": "10212000",
                                    "data_type_code": "10",
                                    "seasonal": "S",
                                    "series_title": "Women employees"
                                },
                                {
                                    "series_id": "CES1021210010",
                                    "supersector_code": "10",
                                    "industry_code": "10212100",
                                    "data_type_code": "10",
                                    "seasonal": "S",
                                    "series_title": "Women employees"
                                },
                                {
                                    "series_id": "CES1021220010",
                                    "supersector_code": "10",
                                    "industry_code": "10212200",
                                    "data_type_code": "10",
                                    "seasonal": "S",
                                    "series_title": "Women employees"
                                },
                                {
                                    "series_id": "CES1021230010",
                                    "supersector_code": "10",
                                    "industry_code": "10212300",
                                    "data_type_code": "10",
                                    "seasonal": "S",
                                    "series_title": "Women employees"
                                },
                                {
                                    "series_id": "CES1021231010",
                                    "supersector_code": "10",
                                    "industry_code": "10212310",
                                    "data_type_code": "10",
                                    "seasonal": "S",
                                    "series_title": "Women employees"
                                },
                                {
                                    "series_id": "CES1021231210",
                                    "supersector_code": "10",
                                    "industry_code": "10212312",
                                    "data_type_code": "10",
                                    "seasonal": "S",
                                    "series_title": "Women employees"
                                },
                                {
                                    "series_id": "CES1021231910",
                                    "supersector_code": "10",
                                    "industry_code": "10212319",
                                    "data_type_code": "10",
                                    "seasonal": "S",
                                    "series_title": "Women employees"
                                },
                                {
                                    "series_id": "CES1021232110",
                                    "supersector_code": "10",
                                    "industry_code": "10212321",
                                    "data_type_code": "10",
                                    "seasonal": "S",
                                    "series_title": "Women employees"
                                },
                                {
                                    "series_id": "CES1021300010",
                                    "supersector_code": "10",
                                    "industry_code": "10213000",
                                    "data_type_code": "10",
                                    "seasonal": "S",
                                    "series_title": "Women employees"
                                },
                                {
                                    "series_id": "CES1021311210",
                                    "supersector_code": "10",
                                    "industry_code": "10213112",
                                    "data_type_code": "10",
                                    "seasonal": "S",
                                    "series_title": "Women employees"
                                },
                                {
                                    "series_id": "CES2000000010",
                                    "supersector_code": "20",
                                    "industry_code": "20000000",
                                    "data_type_code": "10",
                                    "seasonal": "S",
                                    "series_title": "Women employees"
                                },
                                {
                                    "series_id": "CES2023600010",
                                    "supersector_code": "20",
                                    "industry_code": "20236000",
                                    "data_type_code": "10",
                                    "seasonal": "S",
                                    "series_title": "Women employees"
                                },
                                {
                                    "series_id": "CES2023610010",
                                    "supersector_code": "20",
                                    "industry_code": "20236100",
                                    "data_type_code": "10",
                                    "seasonal": "S",
                                    "series_title": "Women employees"
                                },
                                {
                                    "series_id": "CES2023611510",
                                    "supersector_code": "20",
                                    "industry_code": "20236115",
                                    "data_type_code": "10",
                                    "seasonal": "S",
                                    "series_title": "Women employees"
                                },
                                {
                                    "series_id": "CES2023611610",
                                    "supersector_code": "20",
                                    "industry_code": "20236116",
                                    "data_type_code": "10",
                                    "seasonal": "S",
                                    "series_title": "Women employees"
                                },
                                {
                                    "series_id": "CES2023611710",
                                    "supersector_code": "20",
                                    "industry_code": "20236117",
                                    "data_type_code": "10",
                                    "seasonal": "S",
                                    "series_title": "Women employees"
                                },
                                {
                                    "series_id": "CES2023611810",
                                    "supersector_code": "20",
                                    "industry_code": "20236118",
                                    "data_type_code": "10",
                                    "seasonal": "S",
                                    "series_title": "Women employees"
                                },
                                {
                                    "series_id": "CES2023620010",
                                    "supersector_code": "20",
                                    "industry_code": "20236200",
                                    "data_type_code": "10",
                                    "seasonal": "S",
                                    "series_title": "Women employees"
                                },
                                {
                                    "series_id": "CES2023621010",
                                    "supersector_code": "20",
                                    "industry_code": "20236210",
                                    "data_type_code": "10",
                                    "seasonal": "S",
                                    "series_title": "Women employees"
                                },
                                {
                                    "series_id": "CES2023622010",
                                    "supersector_code": "20",
                                    "industry_code": "20236220",
                                    "data_type_code": "10",
                                    "seasonal": "S",
                                    "series_title": "Women employees"
                                },
                                {
                                    "series_id": "CES2023700010",
                                    "supersector_code": "20",
                                    "industry_code": "20237000",
                                    "data_type_code": "10",
                                    "seasonal": "S",
                                    "series_title": "Women employees"
                                },
                                {
                                    "series_id": "CES2023710010",
                                    "supersector_code": "20",
                                    "industry_code": "20237100",
                                    "data_type_code": "10",
                                    "seasonal": "S",
                                    "series_title": "Women employees"
                                },
                                {
                                    "series_id": "CES2023711010",
                                    "supersector_code": "20",
                                    "industry_code": "20237110",
                                    "data_type_code": "10",
                                    "seasonal": "S",
                                    "series_title": "Women employees"
                                },
                                {
                                    "series_id": "CES2023712010",
                                    "supersector_code": "20",
                                    "industry_code": "20237120",
                                    "data_type_code": "10",
                                    "seasonal": "S",
                                    "series_title": "Women employees"
                                },
                                {
                                    "series_id": "CES2023713010",
                                    "supersector_code": "20",
                                    "industry_code": "20237130",
                                    "data_type_code": "10",
                                    "seasonal": "S",
                                    "series_title": "Women employees"
                                },
                                {
                                    "series_id": "CES2023720010",
                                    "supersector_code": "20",
                                    "industry_code": "20237200",
                                    "data_type_code": "10",
                                    "seasonal": "S",
                                    "series_title": "Women employees"
                                },
                                {
                                    "series_id": "CES2023730010",
                                    "supersector_code": "20",
                                    "industry_code": "20237300",
                                    "data_type_code": "10",
                                    "seasonal": "S",
                                    "series_title": "Women employees"
                                },
                                {
                                    "series_id": "CES2023790010",
                                    "supersector_code": "20",
                                    "industry_code": "20237900",
                                    "data_type_code": "10",
                                    "seasonal": "S",
                                    "series_title": "Women employees"
                                },
                                {
                                    "series_id": "CES2023800010",
                                    "supersector_code": "20",
                                    "industry_code": "20238000",
                                    "data_type_code": "10",
                                    "seasonal": "S",
                                    "series_title": "Women employees"
                                },
                                {
                                    "series_id": "CES2023810010",
                                    "supersector_code": "20",
                                    "industry_code": "20238100",
                                    "data_type_code": "10",
                                    "seasonal": "S",
                                    "series_title": "Women employees"
                                },
                                {
                                    "series_id": "CES2023811010",
                                    "supersector_code": "20",
                                    "industry_code": "20238110",
                                    "data_type_code": "10",
                                    "seasonal": "S",
                                    "series_title": "Women employees"
                                },
                                {
                                    "series_id": "CES2023812010",
                                    "supersector_code": "20",
                                    "industry_code": "20238120",
                                    "data_type_code": "10",
                                    "seasonal": "S",
                                    "series_title": "Women employees"
                                },
                                {
                                    "series_id": "CES2023813010",
                                    "supersector_code": "20",
                                    "industry_code": "20238130",
                                    "data_type_code": "10",
                                    "seasonal": "S",
                                    "series_title": "Women employees"
                                },
                                {
                                    "series_id": "CES2023814010",
                                    "supersector_code": "20",
                                    "industry_code": "20238140",
                                    "data_type_code": "10",
                                    "seasonal": "S",
                                    "series_title": "Women employees"
                                },
                                {
                                    "series_id": "CES2023815010",
                                    "supersector_code": "20",
                                    "industry_code": "20238150",
                                    "data_type_code": "10",
                                    "seasonal": "S",
                                    "series_title": "Women employees"
                                },
                                {
                                    "series_id": "CES2023816010",
                                    "supersector_code": "20",
                                    "industry_code": "20238160",
                                    "data_type_code": "10",
                                    "seasonal": "S",
                                    "series_title": "Women employees"
                                },
                                {
                                    "series_id": "CES2023817010",
                                    "supersector_code": "20",
                                    "industry_code": "20238170",
                                    "data_type_code": "10",
                                    "seasonal": "S",
                                    "series_title": "Women employees"
                                },
                                {
                                    "series_id": "CES2023819010",
                                    "supersector_code": "20",
                                    "industry_code": "20238190",
                                    "data_type_code": "10",
                                    "seasonal": "S",
                                    "series_title": "Women employees"
                                },
                                {
                                    "series_id": "CES2023820010",
                                    "supersector_code": "20",
                                    "industry_code": "20238200",
                                    "data_type_code": "10",
                                    "seasonal": "S",
                                    "series_title": "Women employees"
                                },
                                {
                                    "series_id": "CES2023821010",
                                    "supersector_code": "20",
                                    "industry_code": "20238210",
                                    "data_type_code": "10",
                                    "seasonal": "S",
                                    "series_title": "Women employees"
                                },
                                {
                                    "series_id": "CES2023822010",
                                    "supersector_code": "20",
                                    "industry_code": "20238220",
                                    "data_type_code": "10",
                                    "seasonal": "S",
                                    "series_title": "Women employees"
                                }
                            ]
                        },
                        "text/html": "<table><tr><th>series_id</th><th>supersector_code</th><th>industry_code</th><th>data_type_code</th><th>seasonal</th><th>series_title</th></tr><tr><td>CES0000000010</td><td>0</td><td>00000000</td><td>10</td><td>S</td><td>Women employees</td></tr><tr><td>CES0500000010</td><td>5</td><td>05000000</td><td>10</td><td>S</td><td>Women employees</td></tr><tr><td>CES0600000010</td><td>6</td><td>06000000</td><td>10</td><td>S</td><td>Women employees</td></tr><tr><td>CES0700000010</td><td>7</td><td>07000000</td><td>10</td><td>S</td><td>Women employees</td></tr><tr><td>CES0800000010</td><td>8</td><td>08000000</td><td>10</td><td>S</td><td>Women employees</td></tr><tr><td>CES1000000010</td><td>10</td><td>10000000</td><td>10</td><td>S</td><td>Women employees</td></tr><tr><td>CES1011330010</td><td>10</td><td>10113300</td><td>10</td><td>S</td><td>Women employees</td></tr><tr><td>CES1021000010</td><td>10</td><td>10210000</td><td>10</td><td>S</td><td>Women employees</td></tr><tr><td>CES1021100010</td><td>10</td><td>10211000</td><td>10</td><td>S</td><td>Women employees</td></tr><tr><td>CES1021200010</td><td>10</td><td>10212000</td><td>10</td><td>S</td><td>Women employees</td></tr><tr><td>CES1021210010</td><td>10</td><td>10212100</td><td>10</td><td>S</td><td>Women employees</td></tr><tr><td>CES1021220010</td><td>10</td><td>10212200</td><td>10</td><td>S</td><td>Women employees</td></tr><tr><td>CES1021230010</td><td>10</td><td>10212300</td><td>10</td><td>S</td><td>Women employees</td></tr><tr><td>CES1021231010</td><td>10</td><td>10212310</td><td>10</td><td>S</td><td>Women employees</td></tr><tr><td>CES1021231210</td><td>10</td><td>10212312</td><td>10</td><td>S</td><td>Women employees</td></tr><tr><td>CES1021231910</td><td>10</td><td>10212319</td><td>10</td><td>S</td><td>Women employees</td></tr><tr><td>CES1021232110</td><td>10</td><td>10212321</td><td>10</td><td>S</td><td>Women employees</td></tr><tr><td>CES1021300010</td><td>10</td><td>10213000</td><td>10</td><td>S</td><td>Women employees</td></tr><tr><td>CES1021311210</td><td>10</td><td>10213112</td><td>10</td><td>S</td><td>Women employees</td></tr><tr><td>CES2000000010</td><td>20</td><td>20000000</td><td>10</td><td>S</td><td>Women employees</td></tr><tr><td>CES2023600010</td><td>20</td><td>20236000</td><td>10</td><td>S</td><td>Women employees</td></tr><tr><td>CES2023610010</td><td>20</td><td>20236100</td><td>10</td><td>S</td><td>Women employees</td></tr><tr><td>CES2023611510</td><td>20</td><td>20236115</td><td>10</td><td>S</td><td>Women employees</td></tr><tr><td>CES2023611610</td><td>20</td><td>20236116</td><td>10</td><td>S</td><td>Women employees</td></tr><tr><td>CES2023611710</td><td>20</td><td>20236117</td><td>10</td><td>S</td><td>Women employees</td></tr><tr><td>CES2023611810</td><td>20</td><td>20236118</td><td>10</td><td>S</td><td>Women employees</td></tr><tr><td>CES2023620010</td><td>20</td><td>20236200</td><td>10</td><td>S</td><td>Women employees</td></tr><tr><td>CES2023621010</td><td>20</td><td>20236210</td><td>10</td><td>S</td><td>Women employees</td></tr><tr><td>CES2023622010</td><td>20</td><td>20236220</td><td>10</td><td>S</td><td>Women employees</td></tr><tr><td>CES2023700010</td><td>20</td><td>20237000</td><td>10</td><td>S</td><td>Women employees</td></tr><tr><td>CES2023710010</td><td>20</td><td>20237100</td><td>10</td><td>S</td><td>Women employees</td></tr><tr><td>CES2023711010</td><td>20</td><td>20237110</td><td>10</td><td>S</td><td>Women employees</td></tr><tr><td>CES2023712010</td><td>20</td><td>20237120</td><td>10</td><td>S</td><td>Women employees</td></tr><tr><td>CES2023713010</td><td>20</td><td>20237130</td><td>10</td><td>S</td><td>Women employees</td></tr><tr><td>CES2023720010</td><td>20</td><td>20237200</td><td>10</td><td>S</td><td>Women employees</td></tr><tr><td>CES2023730010</td><td>20</td><td>20237300</td><td>10</td><td>S</td><td>Women employees</td></tr><tr><td>CES2023790010</td><td>20</td><td>20237900</td><td>10</td><td>S</td><td>Women employees</td></tr><tr><td>CES2023800010</td><td>20</td><td>20238000</td><td>10</td><td>S</td><td>Women employees</td></tr><tr><td>CES2023810010</td><td>20</td><td>20238100</td><td>10</td><td>S</td><td>Women employees</td></tr><tr><td>CES2023811010</td><td>20</td><td>20238110</td><td>10</td><td>S</td><td>Women employees</td></tr><tr><td>CES2023812010</td><td>20</td><td>20238120</td><td>10</td><td>S</td><td>Women employees</td></tr><tr><td>CES2023813010</td><td>20</td><td>20238130</td><td>10</td><td>S</td><td>Women employees</td></tr><tr><td>CES2023814010</td><td>20</td><td>20238140</td><td>10</td><td>S</td><td>Women employees</td></tr><tr><td>CES2023815010</td><td>20</td><td>20238150</td><td>10</td><td>S</td><td>Women employees</td></tr><tr><td>CES2023816010</td><td>20</td><td>20238160</td><td>10</td><td>S</td><td>Women employees</td></tr><tr><td>CES2023817010</td><td>20</td><td>20238170</td><td>10</td><td>S</td><td>Women employees</td></tr><tr><td>CES2023819010</td><td>20</td><td>20238190</td><td>10</td><td>S</td><td>Women employees</td></tr><tr><td>CES2023820010</td><td>20</td><td>20238200</td><td>10</td><td>S</td><td>Women employees</td></tr><tr><td>CES2023821010</td><td>20</td><td>20238210</td><td>10</td><td>S</td><td>Women employees</td></tr><tr><td>CES2023822010</td><td>20</td><td>20238220</td><td>10</td><td>S</td><td>Women employees</td></tr></table>"
                    },
                    "metadata": {}
                }
            ],
            "execution_count": 6
        },
        {
            "cell_type": "markdown",
            "source": [
                "## <span style=\"font-size: 12pt; font-family: Montserrat, sans-serif; color: rgb(53, 74, 95); background-color: rgb(255, 255, 255); font-weight: 700; font-variant-numeric: normal; font-variant-east-asian: normal; vertical-align: baseline; white-space: pre-wrap;\">Join in on the Fun</span>\n",
                "\n",
                "<span style=\"font-size: 10pt; font-family: Arvo, serif; color: rgb(102, 102, 102); background-color: rgb(255, 255, 255); font-variant-numeric: normal; font-variant-east-asian: normal; vertical-align: baseline; white-space: pre-wrap;\">Time to start joining! You can choose the type of join you use, just make sure to make a&nbsp; note!</span>\n",
                "\n",
                "1. <span style=\"background-color: rgb(255, 255, 255); font-size: 10pt; white-space: pre-wrap; color: rgb(102, 102, 102); font-family: Arvo, serif;\">Join&nbsp; annual_2016 with series on series_id. We only want the data in the annual_2016 table to be included in the result.</span>"
            ],
            "metadata": {
                "azdata_cell_guid": "ec1dfc63-ad41-4349-8c26-1d326ace8c6c"
            },
            "attachments": {}
        },
        {
            "cell_type": "code",
            "source": [
                "/*\r\n",
                "SELECT TOP 5*\r\n",
                "FROM annual_2016\r\n",
                "\r\n",
                "SELECT TOP 5*\r\n",
                "FROM series\r\n",
                "*/\r\n",
                "\r\n",
                "SELECT TOP 50*\r\n",
                "FROM annual_2016\r\n",
                "LEFT JOIN series \r\n",
                "ON annual_2016.series_id = series.series_id"
            ],
            "metadata": {
                "azdata_cell_guid": "cf90f0b4-c482-4fbb-ac17-d2244881caab",
                "language": "sql"
            },
            "outputs": [
                {
                    "output_type": "display_data",
                    "data": {
                        "text/html": "(50 rows affected)"
                    },
                    "metadata": {}
                },
                {
                    "output_type": "display_data",
                    "data": {
                        "text/html": "Total execution time: 00:00:00.160"
                    },
                    "metadata": {}
                },
                {
                    "output_type": "execute_result",
                    "metadata": {},
                    "execution_count": 2,
                    "data": {
                        "application/vnd.dataresource+json": {
                            "schema": {
                                "fields": [
                                    {
                                        "name": "id"
                                    },
                                    {
                                        "name": "series_id"
                                    },
                                    {
                                        "name": "year"
                                    },
                                    {
                                        "name": "period"
                                    },
                                    {
                                        "name": "value"
                                    },
                                    {
                                        "name": "footnote_codes"
                                    },
                                    {
                                        "name": "original_file"
                                    },
                                    {
                                        "name": "series_id"
                                    },
                                    {
                                        "name": "supersector_code"
                                    },
                                    {
                                        "name": "industry_code"
                                    },
                                    {
                                        "name": "data_type_code"
                                    },
                                    {
                                        "name": "seasonal"
                                    },
                                    {
                                        "name": "series_title"
                                    }
                                ]
                            },
                            "data": [
                                {
                                    "id": "8755",
                                    "series_id": "CEU0000000001",
                                    "year": "2016",
                                    "period": "M13",
                                    "value": "144306",
                                    "footnote_codes": "NULL",
                                    "original_file": "ce.data.0.AllCESSeries.csv",
                                    "supersector_code": "0",
                                    "industry_code": "00000000",
                                    "data_type_code": "1",
                                    "seasonal": "U",
                                    "series_title": "All employees"
                                },
                                {
                                    "id": "22220",
                                    "series_id": "CEU0000000001",
                                    "year": "2016",
                                    "period": "M13",
                                    "value": "144306",
                                    "footnote_codes": "NULL",
                                    "original_file": "ce.data.00a.TotalNonfarm.Employment.csv",
                                    "supersector_code": "0",
                                    "industry_code": "00000000",
                                    "data_type_code": "1",
                                    "seasonal": "U",
                                    "series_title": "All employees"
                                },
                                {
                                    "id": "22221",
                                    "series_id": "CEU0000000010",
                                    "year": "2016",
                                    "period": "M13",
                                    "value": "71492",
                                    "footnote_codes": "NULL",
                                    "original_file": "ce.data.00a.TotalNonfarm.Employment.csv",
                                    "supersector_code": "0",
                                    "industry_code": "00000000",
                                    "data_type_code": "10",
                                    "seasonal": "U",
                                    "series_title": "Women employees"
                                },
                                {
                                    "id": "8756",
                                    "series_id": "CEU0000000010",
                                    "year": "2016",
                                    "period": "M13",
                                    "value": "71492",
                                    "footnote_codes": "NULL",
                                    "original_file": "ce.data.0.AllCESSeries.csv",
                                    "supersector_code": "0",
                                    "industry_code": "00000000",
                                    "data_type_code": "10",
                                    "seasonal": "U",
                                    "series_title": "Women employees"
                                },
                                {
                                    "id": "8757",
                                    "series_id": "CEU0500000001",
                                    "year": "2016",
                                    "period": "M13",
                                    "value": "122083",
                                    "footnote_codes": "NULL",
                                    "original_file": "ce.data.0.AllCESSeries.csv",
                                    "supersector_code": "5",
                                    "industry_code": "05000000",
                                    "data_type_code": "1",
                                    "seasonal": "U",
                                    "series_title": "All employees"
                                },
                                {
                                    "id": "6281",
                                    "series_id": "CEU0500000001",
                                    "year": "2016",
                                    "period": "M13",
                                    "value": "122083",
                                    "footnote_codes": "NULL",
                                    "original_file": "ce.data.05a.TotalPrivate.Employment.csv",
                                    "supersector_code": "5",
                                    "industry_code": "05000000",
                                    "data_type_code": "1",
                                    "seasonal": "U",
                                    "series_title": "All employees"
                                },
                                {
                                    "id": "7954",
                                    "series_id": "CEU0500000002",
                                    "year": "2016",
                                    "period": "M13",
                                    "value": "34.4",
                                    "footnote_codes": "NULL",
                                    "original_file": "ce.data.05b.TotalPrivate.AllEmployeeHoursAndEarnings.csv",
                                    "supersector_code": "5",
                                    "industry_code": "05000000",
                                    "data_type_code": "2",
                                    "seasonal": "U",
                                    "series_title": "Average weekly hours of all employees"
                                },
                                {
                                    "id": "8758",
                                    "series_id": "CEU0500000002",
                                    "year": "2016",
                                    "period": "M13",
                                    "value": "34.4",
                                    "footnote_codes": "NULL",
                                    "original_file": "ce.data.0.AllCESSeries.csv",
                                    "supersector_code": "5",
                                    "industry_code": "05000000",
                                    "data_type_code": "2",
                                    "seasonal": "U",
                                    "series_title": "Average weekly hours of all employees"
                                },
                                {
                                    "id": "8759",
                                    "series_id": "CEU0500000003",
                                    "year": "2016",
                                    "period": "M13",
                                    "value": "25.65",
                                    "footnote_codes": "NULL",
                                    "original_file": "ce.data.0.AllCESSeries.csv",
                                    "supersector_code": "5",
                                    "industry_code": "05000000",
                                    "data_type_code": "3",
                                    "seasonal": "U",
                                    "series_title": "Average hourly earnings of all employees"
                                },
                                {
                                    "id": "7955",
                                    "series_id": "CEU0500000003",
                                    "year": "2016",
                                    "period": "M13",
                                    "value": "25.65",
                                    "footnote_codes": "NULL",
                                    "original_file": "ce.data.05b.TotalPrivate.AllEmployeeHoursAndEarnings.csv",
                                    "supersector_code": "5",
                                    "industry_code": "05000000",
                                    "data_type_code": "3",
                                    "seasonal": "U",
                                    "series_title": "Average hourly earnings of all employees"
                                },
                                {
                                    "id": "6282",
                                    "series_id": "CEU0500000006",
                                    "year": "2016",
                                    "period": "M13",
                                    "value": "100531",
                                    "footnote_codes": "NULL",
                                    "original_file": "ce.data.05a.TotalPrivate.Employment.csv",
                                    "supersector_code": "5",
                                    "industry_code": "05000000",
                                    "data_type_code": "6",
                                    "seasonal": "U",
                                    "series_title": "Production and nonsupervisory employees"
                                },
                                {
                                    "id": "8760",
                                    "series_id": "CEU0500000006",
                                    "year": "2016",
                                    "period": "M13",
                                    "value": "100531",
                                    "footnote_codes": "NULL",
                                    "original_file": "ce.data.0.AllCESSeries.csv",
                                    "supersector_code": "5",
                                    "industry_code": "05000000",
                                    "data_type_code": "6",
                                    "seasonal": "U",
                                    "series_title": "Production and nonsupervisory employees"
                                },
                                {
                                    "id": "8761",
                                    "series_id": "CEU0500000007",
                                    "year": "2016",
                                    "period": "M13",
                                    "value": "33.6",
                                    "footnote_codes": "NULL",
                                    "original_file": "ce.data.0.AllCESSeries.csv",
                                    "supersector_code": "5",
                                    "industry_code": "05000000",
                                    "data_type_code": "7",
                                    "seasonal": "U",
                                    "series_title": "Average weekly hours of production and nonsupervisory employees"
                                },
                                {
                                    "id": "5721",
                                    "series_id": "CEU0500000007",
                                    "year": "2016",
                                    "period": "M13",
                                    "value": "33.6",
                                    "footnote_codes": "NULL",
                                    "original_file": "ce.data.05c.TotalPrivate.ProductionEmployeeHoursAndEarnings.csv",
                                    "supersector_code": "5",
                                    "industry_code": "05000000",
                                    "data_type_code": "7",
                                    "seasonal": "U",
                                    "series_title": "Average weekly hours of production and nonsupervisory employees"
                                },
                                {
                                    "id": "5722",
                                    "series_id": "CEU0500000008",
                                    "year": "2016",
                                    "period": "M13",
                                    "value": "21.54",
                                    "footnote_codes": "NULL",
                                    "original_file": "ce.data.05c.TotalPrivate.ProductionEmployeeHoursAndEarnings.csv",
                                    "supersector_code": "5",
                                    "industry_code": "05000000",
                                    "data_type_code": "8",
                                    "seasonal": "U",
                                    "series_title": "Average hourly earnings of production and nonsupervisory employees"
                                },
                                {
                                    "id": "8762",
                                    "series_id": "CEU0500000008",
                                    "year": "2016",
                                    "period": "M13",
                                    "value": "21.54",
                                    "footnote_codes": "NULL",
                                    "original_file": "ce.data.0.AllCESSeries.csv",
                                    "supersector_code": "5",
                                    "industry_code": "05000000",
                                    "data_type_code": "8",
                                    "seasonal": "U",
                                    "series_title": "Average hourly earnings of production and nonsupervisory employees"
                                },
                                {
                                    "id": "8763",
                                    "series_id": "CEU0500000010",
                                    "year": "2016",
                                    "period": "M13",
                                    "value": "58747",
                                    "footnote_codes": "NULL",
                                    "original_file": "ce.data.0.AllCESSeries.csv",
                                    "supersector_code": "5",
                                    "industry_code": "05000000",
                                    "data_type_code": "10",
                                    "seasonal": "U",
                                    "series_title": "Women employees"
                                },
                                {
                                    "id": "6283",
                                    "series_id": "CEU0500000010",
                                    "year": "2016",
                                    "period": "M13",
                                    "value": "58747",
                                    "footnote_codes": "NULL",
                                    "original_file": "ce.data.05a.TotalPrivate.Employment.csv",
                                    "supersector_code": "5",
                                    "industry_code": "05000000",
                                    "data_type_code": "10",
                                    "seasonal": "U",
                                    "series_title": "Women employees"
                                },
                                {
                                    "id": "7956",
                                    "series_id": "CEU0500000011",
                                    "year": "2016",
                                    "period": "M13",
                                    "value": "881.55",
                                    "footnote_codes": "NULL",
                                    "original_file": "ce.data.05b.TotalPrivate.AllEmployeeHoursAndEarnings.csv",
                                    "supersector_code": "5",
                                    "industry_code": "05000000",
                                    "data_type_code": "11",
                                    "seasonal": "U",
                                    "series_title": "Average weekly earnings of all employees"
                                },
                                {
                                    "id": "8764",
                                    "series_id": "CEU0500000011",
                                    "year": "2016",
                                    "period": "M13",
                                    "value": "881.55",
                                    "footnote_codes": "NULL",
                                    "original_file": "ce.data.0.AllCESSeries.csv",
                                    "supersector_code": "5",
                                    "industry_code": "05000000",
                                    "data_type_code": "11",
                                    "seasonal": "U",
                                    "series_title": "Average weekly earnings of all employees"
                                },
                                {
                                    "id": "8765",
                                    "series_id": "CEU0500000012",
                                    "year": "2016",
                                    "period": "M13",
                                    "value": "367.3",
                                    "footnote_codes": "NULL",
                                    "original_file": "ce.data.0.AllCESSeries.csv",
                                    "supersector_code": "5",
                                    "industry_code": "05000000",
                                    "data_type_code": "12",
                                    "seasonal": "U",
                                    "series_title": "Average weekly earnings of all employees"
                                },
                                {
                                    "id": "7957",
                                    "series_id": "CEU0500000012",
                                    "year": "2016",
                                    "period": "M13",
                                    "value": "367.3",
                                    "footnote_codes": "NULL",
                                    "original_file": "ce.data.05b.TotalPrivate.AllEmployeeHoursAndEarnings.csv",
                                    "supersector_code": "5",
                                    "industry_code": "05000000",
                                    "data_type_code": "12",
                                    "seasonal": "U",
                                    "series_title": "Average weekly earnings of all employees"
                                },
                                {
                                    "id": "3808",
                                    "series_id": "CEU0500000012",
                                    "year": "2016",
                                    "period": "M13",
                                    "value": "367.3",
                                    "footnote_codes": "NULL",
                                    "original_file": "ce.data.02b.AllRealEarningsAE.csv",
                                    "supersector_code": "5",
                                    "industry_code": "05000000",
                                    "data_type_code": "12",
                                    "seasonal": "U",
                                    "series_title": "Average weekly earnings of all employees"
                                },
                                {
                                    "id": "3809",
                                    "series_id": "CEU0500000013",
                                    "year": "2016",
                                    "period": "M13",
                                    "value": "10.69",
                                    "footnote_codes": "NULL",
                                    "original_file": "ce.data.02b.AllRealEarningsAE.csv",
                                    "supersector_code": "5",
                                    "industry_code": "05000000",
                                    "data_type_code": "13",
                                    "seasonal": "U",
                                    "series_title": "Average hourly earnings of all employees"
                                },
                                {
                                    "id": "7958",
                                    "series_id": "CEU0500000013",
                                    "year": "2016",
                                    "period": "M13",
                                    "value": "10.69",
                                    "footnote_codes": "NULL",
                                    "original_file": "ce.data.05b.TotalPrivate.AllEmployeeHoursAndEarnings.csv",
                                    "supersector_code": "5",
                                    "industry_code": "05000000",
                                    "data_type_code": "13",
                                    "seasonal": "U",
                                    "series_title": "Average hourly earnings of all employees"
                                },
                                {
                                    "id": "8766",
                                    "series_id": "CEU0500000013",
                                    "year": "2016",
                                    "period": "M13",
                                    "value": "10.69",
                                    "footnote_codes": "NULL",
                                    "original_file": "ce.data.0.AllCESSeries.csv",
                                    "supersector_code": "5",
                                    "industry_code": "05000000",
                                    "data_type_code": "13",
                                    "seasonal": "U",
                                    "series_title": "Average hourly earnings of all employees"
                                },
                                {
                                    "id": "8767",
                                    "series_id": "CEU0500000016",
                                    "year": "2016",
                                    "period": "M13",
                                    "value": "105.3",
                                    "footnote_codes": "NULL",
                                    "original_file": "ce.data.0.AllCESSeries.csv",
                                    "supersector_code": "5",
                                    "industry_code": "05000000",
                                    "data_type_code": "16",
                                    "seasonal": "U",
                                    "series_title": "Indexes of aggregate weekly hours of all employees"
                                },
                                {
                                    "id": "7959",
                                    "series_id": "CEU0500000016",
                                    "year": "2016",
                                    "period": "M13",
                                    "value": "105.3",
                                    "footnote_codes": "NULL",
                                    "original_file": "ce.data.05b.TotalPrivate.AllEmployeeHoursAndEarnings.csv",
                                    "supersector_code": "5",
                                    "industry_code": "05000000",
                                    "data_type_code": "16",
                                    "seasonal": "U",
                                    "series_title": "Indexes of aggregate weekly hours of all employees"
                                },
                                {
                                    "id": "7960",
                                    "series_id": "CEU0500000017",
                                    "year": "2016",
                                    "period": "M13",
                                    "value": "129.1",
                                    "footnote_codes": "NULL",
                                    "original_file": "ce.data.05b.TotalPrivate.AllEmployeeHoursAndEarnings.csv",
                                    "supersector_code": "5",
                                    "industry_code": "05000000",
                                    "data_type_code": "17",
                                    "seasonal": "U",
                                    "series_title": "Indexes of aggregate weekly payrolls of all employees"
                                },
                                {
                                    "id": "8768",
                                    "series_id": "CEU0500000017",
                                    "year": "2016",
                                    "period": "M13",
                                    "value": "129.1",
                                    "footnote_codes": "NULL",
                                    "original_file": "ce.data.0.AllCESSeries.csv",
                                    "supersector_code": "5",
                                    "industry_code": "05000000",
                                    "data_type_code": "17",
                                    "seasonal": "U",
                                    "series_title": "Indexes of aggregate weekly payrolls of all employees"
                                },
                                {
                                    "id": "8769",
                                    "series_id": "CEU0500000030",
                                    "year": "2016",
                                    "period": "M13",
                                    "value": "723.69",
                                    "footnote_codes": "NULL",
                                    "original_file": "ce.data.0.AllCESSeries.csv",
                                    "supersector_code": "5",
                                    "industry_code": "05000000",
                                    "data_type_code": "30",
                                    "seasonal": "U",
                                    "series_title": "Average weekly earnings of production and nonsupervisory employees"
                                },
                                {
                                    "id": "5723",
                                    "series_id": "CEU0500000030",
                                    "year": "2016",
                                    "period": "M13",
                                    "value": "723.69",
                                    "footnote_codes": "NULL",
                                    "original_file": "ce.data.05c.TotalPrivate.ProductionEmployeeHoursAndEarnings.csv",
                                    "supersector_code": "5",
                                    "industry_code": "05000000",
                                    "data_type_code": "30",
                                    "seasonal": "U",
                                    "series_title": "Average weekly earnings of production and nonsupervisory employees"
                                },
                                {
                                    "id": "5724",
                                    "series_id": "CEU0500000031",
                                    "year": "2016",
                                    "period": "M13",
                                    "value": "309.17",
                                    "footnote_codes": "NULL",
                                    "original_file": "ce.data.05c.TotalPrivate.ProductionEmployeeHoursAndEarnings.csv",
                                    "supersector_code": "5",
                                    "industry_code": "05000000",
                                    "data_type_code": "31",
                                    "seasonal": "U",
                                    "series_title": "Average weekly earnings of production and nonsupervisory employees"
                                },
                                {
                                    "id": "8770",
                                    "series_id": "CEU0500000031",
                                    "year": "2016",
                                    "period": "M13",
                                    "value": "309.17",
                                    "footnote_codes": "NULL",
                                    "original_file": "ce.data.0.AllCESSeries.csv",
                                    "supersector_code": "5",
                                    "industry_code": "05000000",
                                    "data_type_code": "31",
                                    "seasonal": "U",
                                    "series_title": "Average weekly earnings of production and nonsupervisory employees"
                                },
                                {
                                    "id": "26206",
                                    "series_id": "CEU0500000031",
                                    "year": "2016",
                                    "period": "M13",
                                    "value": "309.17",
                                    "footnote_codes": "NULL",
                                    "original_file": "ce.data.03c.AllRealEarningsPE.csv",
                                    "supersector_code": "5",
                                    "industry_code": "05000000",
                                    "data_type_code": "31",
                                    "seasonal": "U",
                                    "series_title": "Average weekly earnings of production and nonsupervisory employees"
                                },
                                {
                                    "id": "26207",
                                    "series_id": "CEU0500000032",
                                    "year": "2016",
                                    "period": "M13",
                                    "value": "9.2",
                                    "footnote_codes": "NULL",
                                    "original_file": "ce.data.03c.AllRealEarningsPE.csv",
                                    "supersector_code": "5",
                                    "industry_code": "05000000",
                                    "data_type_code": "32",
                                    "seasonal": "U",
                                    "series_title": "Average hourly earnings of production and nonsupervisory employees"
                                },
                                {
                                    "id": "8771",
                                    "series_id": "CEU0500000032",
                                    "year": "2016",
                                    "period": "M13",
                                    "value": "9.2",
                                    "footnote_codes": "NULL",
                                    "original_file": "ce.data.0.AllCESSeries.csv",
                                    "supersector_code": "5",
                                    "industry_code": "05000000",
                                    "data_type_code": "32",
                                    "seasonal": "U",
                                    "series_title": "Average hourly earnings of production and nonsupervisory employees"
                                },
                                {
                                    "id": "5725",
                                    "series_id": "CEU0500000032",
                                    "year": "2016",
                                    "period": "M13",
                                    "value": "9.2",
                                    "footnote_codes": "NULL",
                                    "original_file": "ce.data.05c.TotalPrivate.ProductionEmployeeHoursAndEarnings.csv",
                                    "supersector_code": "5",
                                    "industry_code": "05000000",
                                    "data_type_code": "32",
                                    "seasonal": "U",
                                    "series_title": "Average hourly earnings of production and nonsupervisory employees"
                                },
                                {
                                    "id": "5726",
                                    "series_id": "CEU0500000034",
                                    "year": "2016",
                                    "period": "M13",
                                    "value": "112.5",
                                    "footnote_codes": "NULL",
                                    "original_file": "ce.data.05c.TotalPrivate.ProductionEmployeeHoursAndEarnings.csv",
                                    "supersector_code": "5",
                                    "industry_code": "05000000",
                                    "data_type_code": "34",
                                    "seasonal": "U",
                                    "series_title": "Indexes of aggregate weekly hours of production and nonsupervisory employees"
                                },
                                {
                                    "id": "8772",
                                    "series_id": "CEU0500000034",
                                    "year": "2016",
                                    "period": "M13",
                                    "value": "112.5",
                                    "footnote_codes": "NULL",
                                    "original_file": "ce.data.0.AllCESSeries.csv",
                                    "supersector_code": "5",
                                    "industry_code": "05000000",
                                    "data_type_code": "34",
                                    "seasonal": "U",
                                    "series_title": "Indexes of aggregate weekly hours of production and nonsupervisory employees"
                                },
                                {
                                    "id": "8773",
                                    "series_id": "CEU0500000035",
                                    "year": "2016",
                                    "period": "M13",
                                    "value": "162",
                                    "footnote_codes": "NULL",
                                    "original_file": "ce.data.0.AllCESSeries.csv",
                                    "supersector_code": "5",
                                    "industry_code": "05000000",
                                    "data_type_code": "35",
                                    "seasonal": "U",
                                    "series_title": "Indexes of aggregate weekly payrolls of production and nonsupervisory employees"
                                },
                                {
                                    "id": "5727",
                                    "series_id": "CEU0500000035",
                                    "year": "2016",
                                    "period": "M13",
                                    "value": "162",
                                    "footnote_codes": "NULL",
                                    "original_file": "ce.data.05c.TotalPrivate.ProductionEmployeeHoursAndEarnings.csv",
                                    "supersector_code": "5",
                                    "industry_code": "05000000",
                                    "data_type_code": "35",
                                    "seasonal": "U",
                                    "series_title": "Indexes of aggregate weekly payrolls of production and nonsupervisory employees"
                                },
                                {
                                    "id": "7961",
                                    "series_id": "CEU0500000056",
                                    "year": "2016",
                                    "period": "M13",
                                    "value": "4195743",
                                    "footnote_codes": "NULL",
                                    "original_file": "ce.data.05b.TotalPrivate.AllEmployeeHoursAndEarnings.csv",
                                    "supersector_code": "5",
                                    "industry_code": "05000000",
                                    "data_type_code": "56",
                                    "seasonal": "U",
                                    "series_title": "Aggregate weekly hours of all employees"
                                },
                                {
                                    "id": "8774",
                                    "series_id": "CEU0500000056",
                                    "year": "2016",
                                    "period": "M13",
                                    "value": "4195743",
                                    "footnote_codes": "NULL",
                                    "original_file": "ce.data.0.AllCESSeries.csv",
                                    "supersector_code": "5",
                                    "industry_code": "05000000",
                                    "data_type_code": "56",
                                    "seasonal": "U",
                                    "series_title": "Aggregate weekly hours of all employees"
                                },
                                {
                                    "id": "8775",
                                    "series_id": "CEU0500000057",
                                    "year": "2016",
                                    "period": "M13",
                                    "value": "107621623",
                                    "footnote_codes": "NULL",
                                    "original_file": "ce.data.0.AllCESSeries.csv",
                                    "supersector_code": "5",
                                    "industry_code": "05000000",
                                    "data_type_code": "57",
                                    "seasonal": "U",
                                    "series_title": "Aggregate weekly payrolls of all employees"
                                },
                                {
                                    "id": "7962",
                                    "series_id": "CEU0500000057",
                                    "year": "2016",
                                    "period": "M13",
                                    "value": "107621623",
                                    "footnote_codes": "NULL",
                                    "original_file": "ce.data.05b.TotalPrivate.AllEmployeeHoursAndEarnings.csv",
                                    "supersector_code": "5",
                                    "industry_code": "05000000",
                                    "data_type_code": "57",
                                    "seasonal": "U",
                                    "series_title": "Aggregate weekly payrolls of all employees"
                                },
                                {
                                    "id": "5728",
                                    "series_id": "CEU0500000081",
                                    "year": "2016",
                                    "period": "M13",
                                    "value": "3377192",
                                    "footnote_codes": "NULL",
                                    "original_file": "ce.data.05c.TotalPrivate.ProductionEmployeeHoursAndEarnings.csv",
                                    "supersector_code": "5",
                                    "industry_code": "05000000",
                                    "data_type_code": "81",
                                    "seasonal": "U",
                                    "series_title": "Aggregate weekly hours of production and nonsupervisory employees"
                                },
                                {
                                    "id": "8776",
                                    "series_id": "CEU0500000081",
                                    "year": "2016",
                                    "period": "M13",
                                    "value": "3377192",
                                    "footnote_codes": "NULL",
                                    "original_file": "ce.data.0.AllCESSeries.csv",
                                    "supersector_code": "5",
                                    "industry_code": "05000000",
                                    "data_type_code": "81",
                                    "seasonal": "U",
                                    "series_title": "Aggregate weekly hours of production and nonsupervisory employees"
                                },
                                {
                                    "id": "8777",
                                    "series_id": "CEU0500000082",
                                    "year": "2016",
                                    "period": "M13",
                                    "value": "72752850",
                                    "footnote_codes": "NULL",
                                    "original_file": "ce.data.0.AllCESSeries.csv",
                                    "supersector_code": "5",
                                    "industry_code": "05000000",
                                    "data_type_code": "82",
                                    "seasonal": "U",
                                    "series_title": "Aggregate weekly payrolls of production and nonsupervisory employees"
                                },
                                {
                                    "id": "5729",
                                    "series_id": "CEU0500000082",
                                    "year": "2016",
                                    "period": "M13",
                                    "value": "72752850",
                                    "footnote_codes": "NULL",
                                    "original_file": "ce.data.05c.TotalPrivate.ProductionEmployeeHoursAndEarnings.csv",
                                    "supersector_code": "5",
                                    "industry_code": "05000000",
                                    "data_type_code": "82",
                                    "seasonal": "U",
                                    "series_title": "Aggregate weekly payrolls of production and nonsupervisory employees"
                                }
                            ]
                        },
                        "text/html": [
                            "<table>",
                            "<tr><th>id</th><th>series_id</th><th>year</th><th>period</th><th>value</th><th>footnote_codes</th><th>original_file</th><th>series_id</th><th>supersector_code</th><th>industry_code</th><th>data_type_code</th><th>seasonal</th><th>series_title</th></tr>",
                            "<tr><td>8755</td><td>CEU0000000001</td><td>2016</td><td>M13</td><td>144306</td><td>NULL</td><td>ce.data.0.AllCESSeries.csv</td><td>CEU0000000001</td><td>0</td><td>00000000</td><td>1</td><td>U</td><td>All employees</td></tr>",
                            "<tr><td>22220</td><td>CEU0000000001</td><td>2016</td><td>M13</td><td>144306</td><td>NULL</td><td>ce.data.00a.TotalNonfarm.Employment.csv</td><td>CEU0000000001</td><td>0</td><td>00000000</td><td>1</td><td>U</td><td>All employees</td></tr>",
                            "<tr><td>22221</td><td>CEU0000000010</td><td>2016</td><td>M13</td><td>71492</td><td>NULL</td><td>ce.data.00a.TotalNonfarm.Employment.csv</td><td>CEU0000000010</td><td>0</td><td>00000000</td><td>10</td><td>U</td><td>Women employees</td></tr>",
                            "<tr><td>8756</td><td>CEU0000000010</td><td>2016</td><td>M13</td><td>71492</td><td>NULL</td><td>ce.data.0.AllCESSeries.csv</td><td>CEU0000000010</td><td>0</td><td>00000000</td><td>10</td><td>U</td><td>Women employees</td></tr>",
                            "<tr><td>8757</td><td>CEU0500000001</td><td>2016</td><td>M13</td><td>122083</td><td>NULL</td><td>ce.data.0.AllCESSeries.csv</td><td>CEU0500000001</td><td>5</td><td>05000000</td><td>1</td><td>U</td><td>All employees</td></tr>",
                            "<tr><td>6281</td><td>CEU0500000001</td><td>2016</td><td>M13</td><td>122083</td><td>NULL</td><td>ce.data.05a.TotalPrivate.Employment.csv</td><td>CEU0500000001</td><td>5</td><td>05000000</td><td>1</td><td>U</td><td>All employees</td></tr>",
                            "<tr><td>7954</td><td>CEU0500000002</td><td>2016</td><td>M13</td><td>34.4</td><td>NULL</td><td>ce.data.05b.TotalPrivate.AllEmployeeHoursAndEarnings.csv</td><td>CEU0500000002</td><td>5</td><td>05000000</td><td>2</td><td>U</td><td>Average weekly hours of all employees</td></tr>",
                            "<tr><td>8758</td><td>CEU0500000002</td><td>2016</td><td>M13</td><td>34.4</td><td>NULL</td><td>ce.data.0.AllCESSeries.csv</td><td>CEU0500000002</td><td>5</td><td>05000000</td><td>2</td><td>U</td><td>Average weekly hours of all employees</td></tr>",
                            "<tr><td>8759</td><td>CEU0500000003</td><td>2016</td><td>M13</td><td>25.65</td><td>NULL</td><td>ce.data.0.AllCESSeries.csv</td><td>CEU0500000003</td><td>5</td><td>05000000</td><td>3</td><td>U</td><td>Average hourly earnings of all employees</td></tr>",
                            "<tr><td>7955</td><td>CEU0500000003</td><td>2016</td><td>M13</td><td>25.65</td><td>NULL</td><td>ce.data.05b.TotalPrivate.AllEmployeeHoursAndEarnings.csv</td><td>CEU0500000003</td><td>5</td><td>05000000</td><td>3</td><td>U</td><td>Average hourly earnings of all employees</td></tr>",
                            "<tr><td>6282</td><td>CEU0500000006</td><td>2016</td><td>M13</td><td>100531</td><td>NULL</td><td>ce.data.05a.TotalPrivate.Employment.csv</td><td>CEU0500000006</td><td>5</td><td>05000000</td><td>6</td><td>U</td><td>Production and nonsupervisory employees</td></tr>",
                            "<tr><td>8760</td><td>CEU0500000006</td><td>2016</td><td>M13</td><td>100531</td><td>NULL</td><td>ce.data.0.AllCESSeries.csv</td><td>CEU0500000006</td><td>5</td><td>05000000</td><td>6</td><td>U</td><td>Production and nonsupervisory employees</td></tr>",
                            "<tr><td>8761</td><td>CEU0500000007</td><td>2016</td><td>M13</td><td>33.6</td><td>NULL</td><td>ce.data.0.AllCESSeries.csv</td><td>CEU0500000007</td><td>5</td><td>05000000</td><td>7</td><td>U</td><td>Average weekly hours of production and nonsupervisory employees</td></tr>",
                            "<tr><td>5721</td><td>CEU0500000007</td><td>2016</td><td>M13</td><td>33.6</td><td>NULL</td><td>ce.data.05c.TotalPrivate.ProductionEmployeeHoursAndEarnings.csv</td><td>CEU0500000007</td><td>5</td><td>05000000</td><td>7</td><td>U</td><td>Average weekly hours of production and nonsupervisory employees</td></tr>",
                            "<tr><td>5722</td><td>CEU0500000008</td><td>2016</td><td>M13</td><td>21.54</td><td>NULL</td><td>ce.data.05c.TotalPrivate.ProductionEmployeeHoursAndEarnings.csv</td><td>CEU0500000008</td><td>5</td><td>05000000</td><td>8</td><td>U</td><td>Average hourly earnings of production and nonsupervisory employees</td></tr>",
                            "<tr><td>8762</td><td>CEU0500000008</td><td>2016</td><td>M13</td><td>21.54</td><td>NULL</td><td>ce.data.0.AllCESSeries.csv</td><td>CEU0500000008</td><td>5</td><td>05000000</td><td>8</td><td>U</td><td>Average hourly earnings of production and nonsupervisory employees</td></tr>",
                            "<tr><td>8763</td><td>CEU0500000010</td><td>2016</td><td>M13</td><td>58747</td><td>NULL</td><td>ce.data.0.AllCESSeries.csv</td><td>CEU0500000010</td><td>5</td><td>05000000</td><td>10</td><td>U</td><td>Women employees</td></tr>",
                            "<tr><td>6283</td><td>CEU0500000010</td><td>2016</td><td>M13</td><td>58747</td><td>NULL</td><td>ce.data.05a.TotalPrivate.Employment.csv</td><td>CEU0500000010</td><td>5</td><td>05000000</td><td>10</td><td>U</td><td>Women employees</td></tr>",
                            "<tr><td>7956</td><td>CEU0500000011</td><td>2016</td><td>M13</td><td>881.55</td><td>NULL</td><td>ce.data.05b.TotalPrivate.AllEmployeeHoursAndEarnings.csv</td><td>CEU0500000011</td><td>5</td><td>05000000</td><td>11</td><td>U</td><td>Average weekly earnings of all employees</td></tr>",
                            "<tr><td>8764</td><td>CEU0500000011</td><td>2016</td><td>M13</td><td>881.55</td><td>NULL</td><td>ce.data.0.AllCESSeries.csv</td><td>CEU0500000011</td><td>5</td><td>05000000</td><td>11</td><td>U</td><td>Average weekly earnings of all employees</td></tr>",
                            "<tr><td>8765</td><td>CEU0500000012</td><td>2016</td><td>M13</td><td>367.3</td><td>NULL</td><td>ce.data.0.AllCESSeries.csv</td><td>CEU0500000012</td><td>5</td><td>05000000</td><td>12</td><td>U</td><td>Average weekly earnings of all employees</td></tr>",
                            "<tr><td>7957</td><td>CEU0500000012</td><td>2016</td><td>M13</td><td>367.3</td><td>NULL</td><td>ce.data.05b.TotalPrivate.AllEmployeeHoursAndEarnings.csv</td><td>CEU0500000012</td><td>5</td><td>05000000</td><td>12</td><td>U</td><td>Average weekly earnings of all employees</td></tr>",
                            "<tr><td>3808</td><td>CEU0500000012</td><td>2016</td><td>M13</td><td>367.3</td><td>NULL</td><td>ce.data.02b.AllRealEarningsAE.csv</td><td>CEU0500000012</td><td>5</td><td>05000000</td><td>12</td><td>U</td><td>Average weekly earnings of all employees</td></tr>",
                            "<tr><td>3809</td><td>CEU0500000013</td><td>2016</td><td>M13</td><td>10.69</td><td>NULL</td><td>ce.data.02b.AllRealEarningsAE.csv</td><td>CEU0500000013</td><td>5</td><td>05000000</td><td>13</td><td>U</td><td>Average hourly earnings of all employees</td></tr>",
                            "<tr><td>7958</td><td>CEU0500000013</td><td>2016</td><td>M13</td><td>10.69</td><td>NULL</td><td>ce.data.05b.TotalPrivate.AllEmployeeHoursAndEarnings.csv</td><td>CEU0500000013</td><td>5</td><td>05000000</td><td>13</td><td>U</td><td>Average hourly earnings of all employees</td></tr>",
                            "<tr><td>8766</td><td>CEU0500000013</td><td>2016</td><td>M13</td><td>10.69</td><td>NULL</td><td>ce.data.0.AllCESSeries.csv</td><td>CEU0500000013</td><td>5</td><td>05000000</td><td>13</td><td>U</td><td>Average hourly earnings of all employees</td></tr>",
                            "<tr><td>8767</td><td>CEU0500000016</td><td>2016</td><td>M13</td><td>105.3</td><td>NULL</td><td>ce.data.0.AllCESSeries.csv</td><td>CEU0500000016</td><td>5</td><td>05000000</td><td>16</td><td>U</td><td>Indexes of aggregate weekly hours of all employees</td></tr>",
                            "<tr><td>7959</td><td>CEU0500000016</td><td>2016</td><td>M13</td><td>105.3</td><td>NULL</td><td>ce.data.05b.TotalPrivate.AllEmployeeHoursAndEarnings.csv</td><td>CEU0500000016</td><td>5</td><td>05000000</td><td>16</td><td>U</td><td>Indexes of aggregate weekly hours of all employees</td></tr>",
                            "<tr><td>7960</td><td>CEU0500000017</td><td>2016</td><td>M13</td><td>129.1</td><td>NULL</td><td>ce.data.05b.TotalPrivate.AllEmployeeHoursAndEarnings.csv</td><td>CEU0500000017</td><td>5</td><td>05000000</td><td>17</td><td>U</td><td>Indexes of aggregate weekly payrolls of all employees</td></tr>",
                            "<tr><td>8768</td><td>CEU0500000017</td><td>2016</td><td>M13</td><td>129.1</td><td>NULL</td><td>ce.data.0.AllCESSeries.csv</td><td>CEU0500000017</td><td>5</td><td>05000000</td><td>17</td><td>U</td><td>Indexes of aggregate weekly payrolls of all employees</td></tr>",
                            "<tr><td>8769</td><td>CEU0500000030</td><td>2016</td><td>M13</td><td>723.69</td><td>NULL</td><td>ce.data.0.AllCESSeries.csv</td><td>CEU0500000030</td><td>5</td><td>05000000</td><td>30</td><td>U</td><td>Average weekly earnings of production and nonsupervisory employees</td></tr>",
                            "<tr><td>5723</td><td>CEU0500000030</td><td>2016</td><td>M13</td><td>723.69</td><td>NULL</td><td>ce.data.05c.TotalPrivate.ProductionEmployeeHoursAndEarnings.csv</td><td>CEU0500000030</td><td>5</td><td>05000000</td><td>30</td><td>U</td><td>Average weekly earnings of production and nonsupervisory employees</td></tr>",
                            "<tr><td>5724</td><td>CEU0500000031</td><td>2016</td><td>M13</td><td>309.17</td><td>NULL</td><td>ce.data.05c.TotalPrivate.ProductionEmployeeHoursAndEarnings.csv</td><td>CEU0500000031</td><td>5</td><td>05000000</td><td>31</td><td>U</td><td>Average weekly earnings of production and nonsupervisory employees</td></tr>",
                            "<tr><td>8770</td><td>CEU0500000031</td><td>2016</td><td>M13</td><td>309.17</td><td>NULL</td><td>ce.data.0.AllCESSeries.csv</td><td>CEU0500000031</td><td>5</td><td>05000000</td><td>31</td><td>U</td><td>Average weekly earnings of production and nonsupervisory employees</td></tr>",
                            "<tr><td>26206</td><td>CEU0500000031</td><td>2016</td><td>M13</td><td>309.17</td><td>NULL</td><td>ce.data.03c.AllRealEarningsPE.csv</td><td>CEU0500000031</td><td>5</td><td>05000000</td><td>31</td><td>U</td><td>Average weekly earnings of production and nonsupervisory employees</td></tr>",
                            "<tr><td>26207</td><td>CEU0500000032</td><td>2016</td><td>M13</td><td>9.2</td><td>NULL</td><td>ce.data.03c.AllRealEarningsPE.csv</td><td>CEU0500000032</td><td>5</td><td>05000000</td><td>32</td><td>U</td><td>Average hourly earnings of production and nonsupervisory employees</td></tr>",
                            "<tr><td>8771</td><td>CEU0500000032</td><td>2016</td><td>M13</td><td>9.2</td><td>NULL</td><td>ce.data.0.AllCESSeries.csv</td><td>CEU0500000032</td><td>5</td><td>05000000</td><td>32</td><td>U</td><td>Average hourly earnings of production and nonsupervisory employees</td></tr>",
                            "<tr><td>5725</td><td>CEU0500000032</td><td>2016</td><td>M13</td><td>9.2</td><td>NULL</td><td>ce.data.05c.TotalPrivate.ProductionEmployeeHoursAndEarnings.csv</td><td>CEU0500000032</td><td>5</td><td>05000000</td><td>32</td><td>U</td><td>Average hourly earnings of production and nonsupervisory employees</td></tr>",
                            "<tr><td>5726</td><td>CEU0500000034</td><td>2016</td><td>M13</td><td>112.5</td><td>NULL</td><td>ce.data.05c.TotalPrivate.ProductionEmployeeHoursAndEarnings.csv</td><td>CEU0500000034</td><td>5</td><td>05000000</td><td>34</td><td>U</td><td>Indexes of aggregate weekly hours of production and nonsupervisory employees</td></tr>",
                            "<tr><td>8772</td><td>CEU0500000034</td><td>2016</td><td>M13</td><td>112.5</td><td>NULL</td><td>ce.data.0.AllCESSeries.csv</td><td>CEU0500000034</td><td>5</td><td>05000000</td><td>34</td><td>U</td><td>Indexes of aggregate weekly hours of production and nonsupervisory employees</td></tr>",
                            "<tr><td>8773</td><td>CEU0500000035</td><td>2016</td><td>M13</td><td>162</td><td>NULL</td><td>ce.data.0.AllCESSeries.csv</td><td>CEU0500000035</td><td>5</td><td>05000000</td><td>35</td><td>U</td><td>Indexes of aggregate weekly payrolls of production and nonsupervisory employees</td></tr>",
                            "<tr><td>5727</td><td>CEU0500000035</td><td>2016</td><td>M13</td><td>162</td><td>NULL</td><td>ce.data.05c.TotalPrivate.ProductionEmployeeHoursAndEarnings.csv</td><td>CEU0500000035</td><td>5</td><td>05000000</td><td>35</td><td>U</td><td>Indexes of aggregate weekly payrolls of production and nonsupervisory employees</td></tr>",
                            "<tr><td>7961</td><td>CEU0500000056</td><td>2016</td><td>M13</td><td>4195743</td><td>NULL</td><td>ce.data.05b.TotalPrivate.AllEmployeeHoursAndEarnings.csv</td><td>CEU0500000056</td><td>5</td><td>05000000</td><td>56</td><td>U</td><td>Aggregate weekly hours of all employees</td></tr>",
                            "<tr><td>8774</td><td>CEU0500000056</td><td>2016</td><td>M13</td><td>4195743</td><td>NULL</td><td>ce.data.0.AllCESSeries.csv</td><td>CEU0500000056</td><td>5</td><td>05000000</td><td>56</td><td>U</td><td>Aggregate weekly hours of all employees</td></tr>",
                            "<tr><td>8775</td><td>CEU0500000057</td><td>2016</td><td>M13</td><td>107621623</td><td>NULL</td><td>ce.data.0.AllCESSeries.csv</td><td>CEU0500000057</td><td>5</td><td>05000000</td><td>57</td><td>U</td><td>Aggregate weekly payrolls of all employees</td></tr>",
                            "<tr><td>7962</td><td>CEU0500000057</td><td>2016</td><td>M13</td><td>107621623</td><td>NULL</td><td>ce.data.05b.TotalPrivate.AllEmployeeHoursAndEarnings.csv</td><td>CEU0500000057</td><td>5</td><td>05000000</td><td>57</td><td>U</td><td>Aggregate weekly payrolls of all employees</td></tr>",
                            "<tr><td>5728</td><td>CEU0500000081</td><td>2016</td><td>M13</td><td>3377192</td><td>NULL</td><td>ce.data.05c.TotalPrivate.ProductionEmployeeHoursAndEarnings.csv</td><td>CEU0500000081</td><td>5</td><td>05000000</td><td>81</td><td>U</td><td>Aggregate weekly hours of production and nonsupervisory employees</td></tr>",
                            "<tr><td>8776</td><td>CEU0500000081</td><td>2016</td><td>M13</td><td>3377192</td><td>NULL</td><td>ce.data.0.AllCESSeries.csv</td><td>CEU0500000081</td><td>5</td><td>05000000</td><td>81</td><td>U</td><td>Aggregate weekly hours of production and nonsupervisory employees</td></tr>",
                            "<tr><td>8777</td><td>CEU0500000082</td><td>2016</td><td>M13</td><td>72752850</td><td>NULL</td><td>ce.data.0.AllCESSeries.csv</td><td>CEU0500000082</td><td>5</td><td>05000000</td><td>82</td><td>U</td><td>Aggregate weekly payrolls of production and nonsupervisory employees</td></tr>",
                            "<tr><td>5729</td><td>CEU0500000082</td><td>2016</td><td>M13</td><td>72752850</td><td>NULL</td><td>ce.data.05c.TotalPrivate.ProductionEmployeeHoursAndEarnings.csv</td><td>CEU0500000082</td><td>5</td><td>05000000</td><td>82</td><td>U</td><td>Aggregate weekly payrolls of production and nonsupervisory employees</td></tr>",
                            "</table>"
                        ]
                    }
                }
            ],
            "execution_count": 2
        },
        {
            "cell_type": "markdown",
            "source": [
                "2. <span style=\"background-color: rgb(255, 255, 255); font-size: 10pt; white-space: pre-wrap; color: rgb(102, 102, 102); font-family: Arvo, serif;\">Join series and datatype on data_type_code</span>"
            ],
            "metadata": {
                "azdata_cell_guid": "710b59ae-224b-4f9d-b1a4-4a6b89048bbb"
            },
            "attachments": {}
        },
        {
            "cell_type": "code",
            "source": [
                "SELECT TOP 5*\r\n",
                "FROM series\r\n",
                "LEFT JOIN datatype\r\n",
                "ON series.data_type_code = datatype.data_type_code\r\n",
                "\r\n",
                "---left join will keep all values"
            ],
            "metadata": {
                "azdata_cell_guid": "fca61371-c9b5-4823-a4b4-34c1279ece3e",
                "language": "sql"
            },
            "outputs": [
                {
                    "output_type": "display_data",
                    "data": {
                        "text/html": "(5 rows affected)"
                    },
                    "metadata": {}
                },
                {
                    "output_type": "display_data",
                    "data": {
                        "text/html": "Total execution time: 00:00:00.064"
                    },
                    "metadata": {}
                },
                {
                    "output_type": "execute_result",
                    "metadata": {},
                    "execution_count": 3,
                    "data": {
                        "application/vnd.dataresource+json": {
                            "schema": {
                                "fields": [
                                    {
                                        "name": "series_id"
                                    },
                                    {
                                        "name": "supersector_code"
                                    },
                                    {
                                        "name": "industry_code"
                                    },
                                    {
                                        "name": "data_type_code"
                                    },
                                    {
                                        "name": "seasonal"
                                    },
                                    {
                                        "name": "series_title"
                                    },
                                    {
                                        "name": "data_type_code"
                                    },
                                    {
                                        "name": "data_type_text"
                                    }
                                ]
                            },
                            "data": [
                                {
                                    "series_id": "CES0000000001",
                                    "supersector_code": "0",
                                    "industry_code": "00000000",
                                    "data_type_code": "1",
                                    "seasonal": "S",
                                    "series_title": "All employees",
                                    "data_type_text": "ALL EMPLOYEES"
                                },
                                {
                                    "series_id": "CES0000000010",
                                    "supersector_code": "0",
                                    "industry_code": "00000000",
                                    "data_type_code": "10",
                                    "seasonal": "S",
                                    "series_title": "Women employees",
                                    "data_type_text": "WOMEN EMPLOYEES"
                                },
                                {
                                    "series_id": "CES0000000025",
                                    "supersector_code": "0",
                                    "industry_code": "00000000",
                                    "data_type_code": "25",
                                    "seasonal": "S",
                                    "series_title": "All employees",
                                    "data_type_text": "ALL EMPLOYEES"
                                },
                                {
                                    "series_id": "CES0000000026",
                                    "supersector_code": "0",
                                    "industry_code": "00000000",
                                    "data_type_code": "26",
                                    "seasonal": "S",
                                    "series_title": "All employees",
                                    "data_type_text": "ALL EMPLOYEES"
                                },
                                {
                                    "series_id": "CES0500000001",
                                    "supersector_code": "5",
                                    "industry_code": "05000000",
                                    "data_type_code": "1",
                                    "seasonal": "S",
                                    "series_title": "All employees",
                                    "data_type_text": "ALL EMPLOYEES"
                                }
                            ]
                        },
                        "text/html": [
                            "<table>",
                            "<tr><th>series_id</th><th>supersector_code</th><th>industry_code</th><th>data_type_code</th><th>seasonal</th><th>series_title</th><th>data_type_code</th><th>data_type_text</th></tr>",
                            "<tr><td>CES0000000001</td><td>0</td><td>00000000</td><td>1</td><td>S</td><td>All employees</td><td>1</td><td>ALL EMPLOYEES</td></tr>",
                            "<tr><td>CES0000000010</td><td>0</td><td>00000000</td><td>10</td><td>S</td><td>Women employees</td><td>10</td><td>WOMEN EMPLOYEES</td></tr>",
                            "<tr><td>CES0000000025</td><td>0</td><td>00000000</td><td>25</td><td>S</td><td>All employees</td><td>25</td><td>ALL EMPLOYEES</td></tr>",
                            "<tr><td>CES0000000026</td><td>0</td><td>00000000</td><td>26</td><td>S</td><td>All employees</td><td>26</td><td>ALL EMPLOYEES</td></tr>",
                            "<tr><td>CES0500000001</td><td>5</td><td>05000000</td><td>1</td><td>S</td><td>All employees</td><td>1</td><td>ALL EMPLOYEES</td></tr>",
                            "</table>"
                        ]
                    }
                }
            ],
            "execution_count": 3
        },
        {
            "cell_type": "markdown",
            "source": [
                "3. <span style=\"background-color: rgb(255, 255, 255); font-size: 10pt; white-space: pre-wrap; color: rgb(102, 102, 102); font-family: Arvo, serif;\">Join series and industry on industry_code</span>"
            ],
            "metadata": {
                "azdata_cell_guid": "78ac8ba4-2a6a-426f-af30-6b56d9d09054"
            },
            "attachments": {}
        },
        {
            "cell_type": "code",
            "source": [
                "SELECT TOP 50*\r\n",
                "FROM series\r\n",
                "LEFT JOIN industry\r\n",
                "ON series.industry_code = industry.industry_code"
            ],
            "metadata": {
                "azdata_cell_guid": "ac022766-e280-4d95-8362-1f2b18773662",
                "language": "sql"
            },
            "outputs": [
                {
                    "output_type": "display_data",
                    "data": {
                        "text/html": "(50 rows affected)"
                    },
                    "metadata": {}
                },
                {
                    "output_type": "display_data",
                    "data": {
                        "text/html": "Total execution time: 00:00:00.089"
                    },
                    "metadata": {}
                },
                {
                    "output_type": "execute_result",
                    "metadata": {},
                    "execution_count": 4,
                    "data": {
                        "application/vnd.dataresource+json": {
                            "schema": {
                                "fields": [
                                    {
                                        "name": "series_id"
                                    },
                                    {
                                        "name": "supersector_code"
                                    },
                                    {
                                        "name": "industry_code"
                                    },
                                    {
                                        "name": "data_type_code"
                                    },
                                    {
                                        "name": "seasonal"
                                    },
                                    {
                                        "name": "series_title"
                                    },
                                    {
                                        "name": "id"
                                    },
                                    {
                                        "name": "industry_code"
                                    },
                                    {
                                        "name": "naics_code"
                                    },
                                    {
                                        "name": "publishing_status"
                                    },
                                    {
                                        "name": "industry_name"
                                    },
                                    {
                                        "name": "display_level"
                                    },
                                    {
                                        "name": "selectable"
                                    },
                                    {
                                        "name": "sort_sequence"
                                    }
                                ]
                            },
                            "data": [
                                {
                                    "series_id": "CES0000000001",
                                    "supersector_code": "0",
                                    "industry_code": "0",
                                    "data_type_code": "1",
                                    "seasonal": "S",
                                    "series_title": "All employees",
                                    "id": "0",
                                    "naics_code": "-",
                                    "publishing_status": "B",
                                    "industry_name": "Total nonfarm",
                                    "display_level": "0",
                                    "selectable": "T",
                                    "sort_sequence": "1"
                                },
                                {
                                    "series_id": "CES0000000010",
                                    "supersector_code": "0",
                                    "industry_code": "0",
                                    "data_type_code": "10",
                                    "seasonal": "S",
                                    "series_title": "Women employees",
                                    "id": "0",
                                    "naics_code": "-",
                                    "publishing_status": "B",
                                    "industry_name": "Total nonfarm",
                                    "display_level": "0",
                                    "selectable": "T",
                                    "sort_sequence": "1"
                                },
                                {
                                    "series_id": "CES0000000025",
                                    "supersector_code": "0",
                                    "industry_code": "0",
                                    "data_type_code": "25",
                                    "seasonal": "S",
                                    "series_title": "All employees",
                                    "id": "0",
                                    "naics_code": "-",
                                    "publishing_status": "B",
                                    "industry_name": "Total nonfarm",
                                    "display_level": "0",
                                    "selectable": "T",
                                    "sort_sequence": "1"
                                },
                                {
                                    "series_id": "CES0000000026",
                                    "supersector_code": "0",
                                    "industry_code": "0",
                                    "data_type_code": "26",
                                    "seasonal": "S",
                                    "series_title": "All employees",
                                    "id": "0",
                                    "naics_code": "-",
                                    "publishing_status": "B",
                                    "industry_name": "Total nonfarm",
                                    "display_level": "0",
                                    "selectable": "T",
                                    "sort_sequence": "1"
                                },
                                {
                                    "series_id": "CES0500000001",
                                    "supersector_code": "5",
                                    "industry_code": "5000000",
                                    "data_type_code": "1",
                                    "seasonal": "S",
                                    "series_title": "All employees",
                                    "id": "1",
                                    "naics_code": "-",
                                    "publishing_status": "A",
                                    "industry_name": "Total private",
                                    "display_level": "1",
                                    "selectable": "T",
                                    "sort_sequence": "2"
                                },
                                {
                                    "series_id": "CES0500000002",
                                    "supersector_code": "5",
                                    "industry_code": "5000000",
                                    "data_type_code": "2",
                                    "seasonal": "S",
                                    "series_title": "Average weekly hours of all employees",
                                    "id": "1",
                                    "naics_code": "-",
                                    "publishing_status": "A",
                                    "industry_name": "Total private",
                                    "display_level": "1",
                                    "selectable": "T",
                                    "sort_sequence": "2"
                                },
                                {
                                    "series_id": "CES0500000003",
                                    "supersector_code": "5",
                                    "industry_code": "5000000",
                                    "data_type_code": "3",
                                    "seasonal": "S",
                                    "series_title": "Average hourly earnings of all employees",
                                    "id": "1",
                                    "naics_code": "-",
                                    "publishing_status": "A",
                                    "industry_name": "Total private",
                                    "display_level": "1",
                                    "selectable": "T",
                                    "sort_sequence": "2"
                                },
                                {
                                    "series_id": "CES0500000006",
                                    "supersector_code": "5",
                                    "industry_code": "5000000",
                                    "data_type_code": "6",
                                    "seasonal": "S",
                                    "series_title": "Production and nonsupervisory employees",
                                    "id": "1",
                                    "naics_code": "-",
                                    "publishing_status": "A",
                                    "industry_name": "Total private",
                                    "display_level": "1",
                                    "selectable": "T",
                                    "sort_sequence": "2"
                                },
                                {
                                    "series_id": "CES0500000007",
                                    "supersector_code": "5",
                                    "industry_code": "5000000",
                                    "data_type_code": "7",
                                    "seasonal": "S",
                                    "series_title": "Average weekly hours of production and nonsupervisory employees",
                                    "id": "1",
                                    "naics_code": "-",
                                    "publishing_status": "A",
                                    "industry_name": "Total private",
                                    "display_level": "1",
                                    "selectable": "T",
                                    "sort_sequence": "2"
                                },
                                {
                                    "series_id": "CES0500000008",
                                    "supersector_code": "5",
                                    "industry_code": "5000000",
                                    "data_type_code": "8",
                                    "seasonal": "S",
                                    "series_title": "Average hourly earnings of production and nonsupervisory employees",
                                    "id": "1",
                                    "naics_code": "-",
                                    "publishing_status": "A",
                                    "industry_name": "Total private",
                                    "display_level": "1",
                                    "selectable": "T",
                                    "sort_sequence": "2"
                                },
                                {
                                    "series_id": "CES0500000010",
                                    "supersector_code": "5",
                                    "industry_code": "5000000",
                                    "data_type_code": "10",
                                    "seasonal": "S",
                                    "series_title": "Women employees",
                                    "id": "1",
                                    "naics_code": "-",
                                    "publishing_status": "A",
                                    "industry_name": "Total private",
                                    "display_level": "1",
                                    "selectable": "T",
                                    "sort_sequence": "2"
                                },
                                {
                                    "series_id": "CES0500000011",
                                    "supersector_code": "5",
                                    "industry_code": "5000000",
                                    "data_type_code": "11",
                                    "seasonal": "S",
                                    "series_title": "Average weekly earnings of all employees",
                                    "id": "1",
                                    "naics_code": "-",
                                    "publishing_status": "A",
                                    "industry_name": "Total private",
                                    "display_level": "1",
                                    "selectable": "T",
                                    "sort_sequence": "2"
                                },
                                {
                                    "series_id": "CES0500000012",
                                    "supersector_code": "5",
                                    "industry_code": "5000000",
                                    "data_type_code": "12",
                                    "seasonal": "S",
                                    "series_title": "Average weekly earnings of all employees",
                                    "id": "1",
                                    "naics_code": "-",
                                    "publishing_status": "A",
                                    "industry_name": "Total private",
                                    "display_level": "1",
                                    "selectable": "T",
                                    "sort_sequence": "2"
                                },
                                {
                                    "series_id": "CES0500000013",
                                    "supersector_code": "5",
                                    "industry_code": "5000000",
                                    "data_type_code": "13",
                                    "seasonal": "S",
                                    "series_title": "Average hourly earnings of all employees",
                                    "id": "1",
                                    "naics_code": "-",
                                    "publishing_status": "A",
                                    "industry_name": "Total private",
                                    "display_level": "1",
                                    "selectable": "T",
                                    "sort_sequence": "2"
                                },
                                {
                                    "series_id": "CES0500000016",
                                    "supersector_code": "5",
                                    "industry_code": "5000000",
                                    "data_type_code": "16",
                                    "seasonal": "S",
                                    "series_title": "Indexes of aggregate weekly hours of all employees",
                                    "id": "1",
                                    "naics_code": "-",
                                    "publishing_status": "A",
                                    "industry_name": "Total private",
                                    "display_level": "1",
                                    "selectable": "T",
                                    "sort_sequence": "2"
                                },
                                {
                                    "series_id": "CES0500000017",
                                    "supersector_code": "5",
                                    "industry_code": "5000000",
                                    "data_type_code": "17",
                                    "seasonal": "S",
                                    "series_title": "Indexes of aggregate weekly payrolls of all employees",
                                    "id": "1",
                                    "naics_code": "-",
                                    "publishing_status": "A",
                                    "industry_name": "Total private",
                                    "display_level": "1",
                                    "selectable": "T",
                                    "sort_sequence": "2"
                                },
                                {
                                    "series_id": "CES0500000019",
                                    "supersector_code": "5",
                                    "industry_code": "5000000",
                                    "data_type_code": "19",
                                    "seasonal": "S",
                                    "series_title": "Average weekly hours of all employees",
                                    "id": "1",
                                    "naics_code": "-",
                                    "publishing_status": "A",
                                    "industry_name": "Total private",
                                    "display_level": "1",
                                    "selectable": "T",
                                    "sort_sequence": "2"
                                },
                                {
                                    "series_id": "CES0500000021",
                                    "supersector_code": "5",
                                    "industry_code": "5000000",
                                    "data_type_code": "21",
                                    "seasonal": "S",
                                    "series_title": "Diffusion indexes",
                                    "id": "1",
                                    "naics_code": "-",
                                    "publishing_status": "A",
                                    "industry_name": "Total private",
                                    "display_level": "1",
                                    "selectable": "T",
                                    "sort_sequence": "2"
                                },
                                {
                                    "series_id": "CES0500000022",
                                    "supersector_code": "5",
                                    "industry_code": "5000000",
                                    "data_type_code": "22",
                                    "seasonal": "S",
                                    "series_title": "Diffusion indexes",
                                    "id": "1",
                                    "naics_code": "-",
                                    "publishing_status": "A",
                                    "industry_name": "Total private",
                                    "display_level": "1",
                                    "selectable": "T",
                                    "sort_sequence": "2"
                                },
                                {
                                    "series_id": "CES0500000023",
                                    "supersector_code": "5",
                                    "industry_code": "5000000",
                                    "data_type_code": "23",
                                    "seasonal": "S",
                                    "series_title": "Diffusion indexes",
                                    "id": "1",
                                    "naics_code": "-",
                                    "publishing_status": "A",
                                    "industry_name": "Total private",
                                    "display_level": "1",
                                    "selectable": "T",
                                    "sort_sequence": "2"
                                },
                                {
                                    "series_id": "CES0500000025",
                                    "supersector_code": "5",
                                    "industry_code": "5000000",
                                    "data_type_code": "25",
                                    "seasonal": "S",
                                    "series_title": "All employees",
                                    "id": "1",
                                    "naics_code": "-",
                                    "publishing_status": "A",
                                    "industry_name": "Total private",
                                    "display_level": "1",
                                    "selectable": "T",
                                    "sort_sequence": "2"
                                },
                                {
                                    "series_id": "CES0500000026",
                                    "supersector_code": "5",
                                    "industry_code": "5000000",
                                    "data_type_code": "26",
                                    "seasonal": "S",
                                    "series_title": "All employees",
                                    "id": "1",
                                    "naics_code": "-",
                                    "publishing_status": "A",
                                    "industry_name": "Total private",
                                    "display_level": "1",
                                    "selectable": "T",
                                    "sort_sequence": "2"
                                },
                                {
                                    "series_id": "CES0500000030",
                                    "supersector_code": "5",
                                    "industry_code": "5000000",
                                    "data_type_code": "30",
                                    "seasonal": "S",
                                    "series_title": "Average weekly earnings of production and nonsupervisory employees",
                                    "id": "1",
                                    "naics_code": "-",
                                    "publishing_status": "A",
                                    "industry_name": "Total private",
                                    "display_level": "1",
                                    "selectable": "T",
                                    "sort_sequence": "2"
                                },
                                {
                                    "series_id": "CES0500000031",
                                    "supersector_code": "5",
                                    "industry_code": "5000000",
                                    "data_type_code": "31",
                                    "seasonal": "S",
                                    "series_title": "Average weekly earnings of production and nonsupervisory employees",
                                    "id": "1",
                                    "naics_code": "-",
                                    "publishing_status": "A",
                                    "industry_name": "Total private",
                                    "display_level": "1",
                                    "selectable": "T",
                                    "sort_sequence": "2"
                                },
                                {
                                    "series_id": "CES0500000032",
                                    "supersector_code": "5",
                                    "industry_code": "5000000",
                                    "data_type_code": "32",
                                    "seasonal": "S",
                                    "series_title": "Average hourly earnings of production and nonsupervisory employees",
                                    "id": "1",
                                    "naics_code": "-",
                                    "publishing_status": "A",
                                    "industry_name": "Total private",
                                    "display_level": "1",
                                    "selectable": "T",
                                    "sort_sequence": "2"
                                },
                                {
                                    "series_id": "CES0500000034",
                                    "supersector_code": "5",
                                    "industry_code": "5000000",
                                    "data_type_code": "34",
                                    "seasonal": "S",
                                    "series_title": "Indexes of aggregate weekly hours of production and nonsupervisory employees",
                                    "id": "1",
                                    "naics_code": "-",
                                    "publishing_status": "A",
                                    "industry_name": "Total private",
                                    "display_level": "1",
                                    "selectable": "T",
                                    "sort_sequence": "2"
                                },
                                {
                                    "series_id": "CES0500000035",
                                    "supersector_code": "5",
                                    "industry_code": "5000000",
                                    "data_type_code": "35",
                                    "seasonal": "S",
                                    "series_title": "Indexes of aggregate weekly payrolls of production and nonsupervisory employees",
                                    "id": "1",
                                    "naics_code": "-",
                                    "publishing_status": "A",
                                    "industry_name": "Total private",
                                    "display_level": "1",
                                    "selectable": "T",
                                    "sort_sequence": "2"
                                },
                                {
                                    "series_id": "CES0500000036",
                                    "supersector_code": "5",
                                    "industry_code": "5000000",
                                    "data_type_code": "36",
                                    "seasonal": "S",
                                    "series_title": "Average weekly hours",
                                    "id": "1",
                                    "naics_code": "-",
                                    "publishing_status": "A",
                                    "industry_name": "Total private",
                                    "display_level": "1",
                                    "selectable": "T",
                                    "sort_sequence": "2"
                                },
                                {
                                    "series_id": "CES0500000056",
                                    "supersector_code": "5",
                                    "industry_code": "5000000",
                                    "data_type_code": "56",
                                    "seasonal": "S",
                                    "series_title": "Aggregate weekly hours of all employees",
                                    "id": "1",
                                    "naics_code": "-",
                                    "publishing_status": "A",
                                    "industry_name": "Total private",
                                    "display_level": "1",
                                    "selectable": "T",
                                    "sort_sequence": "2"
                                },
                                {
                                    "series_id": "CES0500000057",
                                    "supersector_code": "5",
                                    "industry_code": "5000000",
                                    "data_type_code": "57",
                                    "seasonal": "S",
                                    "series_title": "Aggregate weekly payrolls of all employees",
                                    "id": "1",
                                    "naics_code": "-",
                                    "publishing_status": "A",
                                    "industry_name": "Total private",
                                    "display_level": "1",
                                    "selectable": "T",
                                    "sort_sequence": "2"
                                },
                                {
                                    "series_id": "CES0500000081",
                                    "supersector_code": "5",
                                    "industry_code": "5000000",
                                    "data_type_code": "81",
                                    "seasonal": "S",
                                    "series_title": "Aggregate weekly hours of production and nonsupervisory employees",
                                    "id": "1",
                                    "naics_code": "-",
                                    "publishing_status": "A",
                                    "industry_name": "Total private",
                                    "display_level": "1",
                                    "selectable": "T",
                                    "sort_sequence": "2"
                                },
                                {
                                    "series_id": "CES0500000082",
                                    "supersector_code": "5",
                                    "industry_code": "5000000",
                                    "data_type_code": "82",
                                    "seasonal": "S",
                                    "series_title": "Aggregate weekly payrolls of production and nonsupervisory employees",
                                    "id": "1",
                                    "naics_code": "-",
                                    "publishing_status": "A",
                                    "industry_name": "Total private",
                                    "display_level": "1",
                                    "selectable": "T",
                                    "sort_sequence": "2"
                                },
                                {
                                    "series_id": "CES0600000001",
                                    "supersector_code": "6",
                                    "industry_code": "6000000",
                                    "data_type_code": "1",
                                    "seasonal": "S",
                                    "series_title": "All employees",
                                    "id": "2",
                                    "naics_code": "-",
                                    "publishing_status": "A",
                                    "industry_name": "Goods-producing",
                                    "display_level": "1",
                                    "selectable": "T",
                                    "sort_sequence": "3"
                                },
                                {
                                    "series_id": "CES0600000002",
                                    "supersector_code": "6",
                                    "industry_code": "6000000",
                                    "data_type_code": "2",
                                    "seasonal": "S",
                                    "series_title": "Average weekly hours of all employees",
                                    "id": "2",
                                    "naics_code": "-",
                                    "publishing_status": "A",
                                    "industry_name": "Goods-producing",
                                    "display_level": "1",
                                    "selectable": "T",
                                    "sort_sequence": "3"
                                },
                                {
                                    "series_id": "CES0600000003",
                                    "supersector_code": "6",
                                    "industry_code": "6000000",
                                    "data_type_code": "3",
                                    "seasonal": "S",
                                    "series_title": "Average hourly earnings of all employees",
                                    "id": "2",
                                    "naics_code": "-",
                                    "publishing_status": "A",
                                    "industry_name": "Goods-producing",
                                    "display_level": "1",
                                    "selectable": "T",
                                    "sort_sequence": "3"
                                },
                                {
                                    "series_id": "CES0600000006",
                                    "supersector_code": "6",
                                    "industry_code": "6000000",
                                    "data_type_code": "6",
                                    "seasonal": "S",
                                    "series_title": "Production and nonsupervisory employees",
                                    "id": "2",
                                    "naics_code": "-",
                                    "publishing_status": "A",
                                    "industry_name": "Goods-producing",
                                    "display_level": "1",
                                    "selectable": "T",
                                    "sort_sequence": "3"
                                },
                                {
                                    "series_id": "CES0600000007",
                                    "supersector_code": "6",
                                    "industry_code": "6000000",
                                    "data_type_code": "7",
                                    "seasonal": "S",
                                    "series_title": "Average weekly hours of production and nonsupervisory employees",
                                    "id": "2",
                                    "naics_code": "-",
                                    "publishing_status": "A",
                                    "industry_name": "Goods-producing",
                                    "display_level": "1",
                                    "selectable": "T",
                                    "sort_sequence": "3"
                                },
                                {
                                    "series_id": "CES0600000008",
                                    "supersector_code": "6",
                                    "industry_code": "6000000",
                                    "data_type_code": "8",
                                    "seasonal": "S",
                                    "series_title": "Average hourly earnings of production and nonsupervisory employees",
                                    "id": "2",
                                    "naics_code": "-",
                                    "publishing_status": "A",
                                    "industry_name": "Goods-producing",
                                    "display_level": "1",
                                    "selectable": "T",
                                    "sort_sequence": "3"
                                },
                                {
                                    "series_id": "CES0600000010",
                                    "supersector_code": "6",
                                    "industry_code": "6000000",
                                    "data_type_code": "10",
                                    "seasonal": "S",
                                    "series_title": "Women employees",
                                    "id": "2",
                                    "naics_code": "-",
                                    "publishing_status": "A",
                                    "industry_name": "Goods-producing",
                                    "display_level": "1",
                                    "selectable": "T",
                                    "sort_sequence": "3"
                                },
                                {
                                    "series_id": "CES0600000011",
                                    "supersector_code": "6",
                                    "industry_code": "6000000",
                                    "data_type_code": "11",
                                    "seasonal": "S",
                                    "series_title": "Average weekly earnings of all employees",
                                    "id": "2",
                                    "naics_code": "-",
                                    "publishing_status": "A",
                                    "industry_name": "Goods-producing",
                                    "display_level": "1",
                                    "selectable": "T",
                                    "sort_sequence": "3"
                                },
                                {
                                    "series_id": "CES0600000012",
                                    "supersector_code": "6",
                                    "industry_code": "6000000",
                                    "data_type_code": "12",
                                    "seasonal": "S",
                                    "series_title": "Average weekly earnings of all employees",
                                    "id": "2",
                                    "naics_code": "-",
                                    "publishing_status": "A",
                                    "industry_name": "Goods-producing",
                                    "display_level": "1",
                                    "selectable": "T",
                                    "sort_sequence": "3"
                                },
                                {
                                    "series_id": "CES0600000013",
                                    "supersector_code": "6",
                                    "industry_code": "6000000",
                                    "data_type_code": "13",
                                    "seasonal": "S",
                                    "series_title": "Average hourly earnings of all employees",
                                    "id": "2",
                                    "naics_code": "-",
                                    "publishing_status": "A",
                                    "industry_name": "Goods-producing",
                                    "display_level": "1",
                                    "selectable": "T",
                                    "sort_sequence": "3"
                                },
                                {
                                    "series_id": "CES0600000016",
                                    "supersector_code": "6",
                                    "industry_code": "6000000",
                                    "data_type_code": "16",
                                    "seasonal": "S",
                                    "series_title": "Indexes of aggregate weekly hours of all employees",
                                    "id": "2",
                                    "naics_code": "-",
                                    "publishing_status": "A",
                                    "industry_name": "Goods-producing",
                                    "display_level": "1",
                                    "selectable": "T",
                                    "sort_sequence": "3"
                                },
                                {
                                    "series_id": "CES0600000017",
                                    "supersector_code": "6",
                                    "industry_code": "6000000",
                                    "data_type_code": "17",
                                    "seasonal": "S",
                                    "series_title": "Indexes of aggregate weekly payrolls of all employees",
                                    "id": "2",
                                    "naics_code": "-",
                                    "publishing_status": "A",
                                    "industry_name": "Goods-producing",
                                    "display_level": "1",
                                    "selectable": "T",
                                    "sort_sequence": "3"
                                },
                                {
                                    "series_id": "CES0600000025",
                                    "supersector_code": "6",
                                    "industry_code": "6000000",
                                    "data_type_code": "25",
                                    "seasonal": "S",
                                    "series_title": "All employees",
                                    "id": "2",
                                    "naics_code": "-",
                                    "publishing_status": "A",
                                    "industry_name": "Goods-producing",
                                    "display_level": "1",
                                    "selectable": "T",
                                    "sort_sequence": "3"
                                },
                                {
                                    "series_id": "CES0600000030",
                                    "supersector_code": "6",
                                    "industry_code": "6000000",
                                    "data_type_code": "30",
                                    "seasonal": "S",
                                    "series_title": "Average weekly earnings of production and nonsupervisory employees",
                                    "id": "2",
                                    "naics_code": "-",
                                    "publishing_status": "A",
                                    "industry_name": "Goods-producing",
                                    "display_level": "1",
                                    "selectable": "T",
                                    "sort_sequence": "3"
                                },
                                {
                                    "series_id": "CES0600000031",
                                    "supersector_code": "6",
                                    "industry_code": "6000000",
                                    "data_type_code": "31",
                                    "seasonal": "S",
                                    "series_title": "Average weekly earnings of production and nonsupervisory employees",
                                    "id": "2",
                                    "naics_code": "-",
                                    "publishing_status": "A",
                                    "industry_name": "Goods-producing",
                                    "display_level": "1",
                                    "selectable": "T",
                                    "sort_sequence": "3"
                                },
                                {
                                    "series_id": "CES0600000032",
                                    "supersector_code": "6",
                                    "industry_code": "6000000",
                                    "data_type_code": "32",
                                    "seasonal": "S",
                                    "series_title": "Average hourly earnings of production and nonsupervisory employees",
                                    "id": "2",
                                    "naics_code": "-",
                                    "publishing_status": "A",
                                    "industry_name": "Goods-producing",
                                    "display_level": "1",
                                    "selectable": "T",
                                    "sort_sequence": "3"
                                },
                                {
                                    "series_id": "CES0600000034",
                                    "supersector_code": "6",
                                    "industry_code": "6000000",
                                    "data_type_code": "34",
                                    "seasonal": "S",
                                    "series_title": "Indexes of aggregate weekly hours of production and nonsupervisory employees",
                                    "id": "2",
                                    "naics_code": "-",
                                    "publishing_status": "A",
                                    "industry_name": "Goods-producing",
                                    "display_level": "1",
                                    "selectable": "T",
                                    "sort_sequence": "3"
                                },
                                {
                                    "series_id": "CES0600000035",
                                    "supersector_code": "6",
                                    "industry_code": "6000000",
                                    "data_type_code": "35",
                                    "seasonal": "S",
                                    "series_title": "Indexes of aggregate weekly payrolls of production and nonsupervisory employees",
                                    "id": "2",
                                    "naics_code": "-",
                                    "publishing_status": "A",
                                    "industry_name": "Goods-producing",
                                    "display_level": "1",
                                    "selectable": "T",
                                    "sort_sequence": "3"
                                }
                            ]
                        },
                        "text/html": [
                            "<table>",
                            "<tr><th>series_id</th><th>supersector_code</th><th>industry_code</th><th>data_type_code</th><th>seasonal</th><th>series_title</th><th>id</th><th>industry_code</th><th>naics_code</th><th>publishing_status</th><th>industry_name</th><th>display_level</th><th>selectable</th><th>sort_sequence</th></tr>",
                            "<tr><td>CES0000000001</td><td>0</td><td>00000000</td><td>1</td><td>S</td><td>All employees</td><td>0</td><td>0</td><td>-</td><td>B</td><td>Total nonfarm</td><td>0</td><td>T</td><td>1</td></tr>",
                            "<tr><td>CES0000000010</td><td>0</td><td>00000000</td><td>10</td><td>S</td><td>Women employees</td><td>0</td><td>0</td><td>-</td><td>B</td><td>Total nonfarm</td><td>0</td><td>T</td><td>1</td></tr>",
                            "<tr><td>CES0000000025</td><td>0</td><td>00000000</td><td>25</td><td>S</td><td>All employees</td><td>0</td><td>0</td><td>-</td><td>B</td><td>Total nonfarm</td><td>0</td><td>T</td><td>1</td></tr>",
                            "<tr><td>CES0000000026</td><td>0</td><td>00000000</td><td>26</td><td>S</td><td>All employees</td><td>0</td><td>0</td><td>-</td><td>B</td><td>Total nonfarm</td><td>0</td><td>T</td><td>1</td></tr>",
                            "<tr><td>CES0500000001</td><td>5</td><td>05000000</td><td>1</td><td>S</td><td>All employees</td><td>1</td><td>5000000</td><td>-</td><td>A</td><td>Total private</td><td>1</td><td>T</td><td>2</td></tr>",
                            "<tr><td>CES0500000002</td><td>5</td><td>05000000</td><td>2</td><td>S</td><td>Average weekly hours of all employees</td><td>1</td><td>5000000</td><td>-</td><td>A</td><td>Total private</td><td>1</td><td>T</td><td>2</td></tr>",
                            "<tr><td>CES0500000003</td><td>5</td><td>05000000</td><td>3</td><td>S</td><td>Average hourly earnings of all employees</td><td>1</td><td>5000000</td><td>-</td><td>A</td><td>Total private</td><td>1</td><td>T</td><td>2</td></tr>",
                            "<tr><td>CES0500000006</td><td>5</td><td>05000000</td><td>6</td><td>S</td><td>Production and nonsupervisory employees</td><td>1</td><td>5000000</td><td>-</td><td>A</td><td>Total private</td><td>1</td><td>T</td><td>2</td></tr>",
                            "<tr><td>CES0500000007</td><td>5</td><td>05000000</td><td>7</td><td>S</td><td>Average weekly hours of production and nonsupervisory employees</td><td>1</td><td>5000000</td><td>-</td><td>A</td><td>Total private</td><td>1</td><td>T</td><td>2</td></tr>",
                            "<tr><td>CES0500000008</td><td>5</td><td>05000000</td><td>8</td><td>S</td><td>Average hourly earnings of production and nonsupervisory employees</td><td>1</td><td>5000000</td><td>-</td><td>A</td><td>Total private</td><td>1</td><td>T</td><td>2</td></tr>",
                            "<tr><td>CES0500000010</td><td>5</td><td>05000000</td><td>10</td><td>S</td><td>Women employees</td><td>1</td><td>5000000</td><td>-</td><td>A</td><td>Total private</td><td>1</td><td>T</td><td>2</td></tr>",
                            "<tr><td>CES0500000011</td><td>5</td><td>05000000</td><td>11</td><td>S</td><td>Average weekly earnings of all employees</td><td>1</td><td>5000000</td><td>-</td><td>A</td><td>Total private</td><td>1</td><td>T</td><td>2</td></tr>",
                            "<tr><td>CES0500000012</td><td>5</td><td>05000000</td><td>12</td><td>S</td><td>Average weekly earnings of all employees</td><td>1</td><td>5000000</td><td>-</td><td>A</td><td>Total private</td><td>1</td><td>T</td><td>2</td></tr>",
                            "<tr><td>CES0500000013</td><td>5</td><td>05000000</td><td>13</td><td>S</td><td>Average hourly earnings of all employees</td><td>1</td><td>5000000</td><td>-</td><td>A</td><td>Total private</td><td>1</td><td>T</td><td>2</td></tr>",
                            "<tr><td>CES0500000016</td><td>5</td><td>05000000</td><td>16</td><td>S</td><td>Indexes of aggregate weekly hours of all employees</td><td>1</td><td>5000000</td><td>-</td><td>A</td><td>Total private</td><td>1</td><td>T</td><td>2</td></tr>",
                            "<tr><td>CES0500000017</td><td>5</td><td>05000000</td><td>17</td><td>S</td><td>Indexes of aggregate weekly payrolls of all employees</td><td>1</td><td>5000000</td><td>-</td><td>A</td><td>Total private</td><td>1</td><td>T</td><td>2</td></tr>",
                            "<tr><td>CES0500000019</td><td>5</td><td>05000000</td><td>19</td><td>S</td><td>Average weekly hours of all employees</td><td>1</td><td>5000000</td><td>-</td><td>A</td><td>Total private</td><td>1</td><td>T</td><td>2</td></tr>",
                            "<tr><td>CES0500000021</td><td>5</td><td>05000000</td><td>21</td><td>S</td><td>Diffusion indexes</td><td>1</td><td>5000000</td><td>-</td><td>A</td><td>Total private</td><td>1</td><td>T</td><td>2</td></tr>",
                            "<tr><td>CES0500000022</td><td>5</td><td>05000000</td><td>22</td><td>S</td><td>Diffusion indexes</td><td>1</td><td>5000000</td><td>-</td><td>A</td><td>Total private</td><td>1</td><td>T</td><td>2</td></tr>",
                            "<tr><td>CES0500000023</td><td>5</td><td>05000000</td><td>23</td><td>S</td><td>Diffusion indexes</td><td>1</td><td>5000000</td><td>-</td><td>A</td><td>Total private</td><td>1</td><td>T</td><td>2</td></tr>",
                            "<tr><td>CES0500000025</td><td>5</td><td>05000000</td><td>25</td><td>S</td><td>All employees</td><td>1</td><td>5000000</td><td>-</td><td>A</td><td>Total private</td><td>1</td><td>T</td><td>2</td></tr>",
                            "<tr><td>CES0500000026</td><td>5</td><td>05000000</td><td>26</td><td>S</td><td>All employees</td><td>1</td><td>5000000</td><td>-</td><td>A</td><td>Total private</td><td>1</td><td>T</td><td>2</td></tr>",
                            "<tr><td>CES0500000030</td><td>5</td><td>05000000</td><td>30</td><td>S</td><td>Average weekly earnings of production and nonsupervisory employees</td><td>1</td><td>5000000</td><td>-</td><td>A</td><td>Total private</td><td>1</td><td>T</td><td>2</td></tr>",
                            "<tr><td>CES0500000031</td><td>5</td><td>05000000</td><td>31</td><td>S</td><td>Average weekly earnings of production and nonsupervisory employees</td><td>1</td><td>5000000</td><td>-</td><td>A</td><td>Total private</td><td>1</td><td>T</td><td>2</td></tr>",
                            "<tr><td>CES0500000032</td><td>5</td><td>05000000</td><td>32</td><td>S</td><td>Average hourly earnings of production and nonsupervisory employees</td><td>1</td><td>5000000</td><td>-</td><td>A</td><td>Total private</td><td>1</td><td>T</td><td>2</td></tr>",
                            "<tr><td>CES0500000034</td><td>5</td><td>05000000</td><td>34</td><td>S</td><td>Indexes of aggregate weekly hours of production and nonsupervisory employees</td><td>1</td><td>5000000</td><td>-</td><td>A</td><td>Total private</td><td>1</td><td>T</td><td>2</td></tr>",
                            "<tr><td>CES0500000035</td><td>5</td><td>05000000</td><td>35</td><td>S</td><td>Indexes of aggregate weekly payrolls of production and nonsupervisory employees</td><td>1</td><td>5000000</td><td>-</td><td>A</td><td>Total private</td><td>1</td><td>T</td><td>2</td></tr>",
                            "<tr><td>CES0500000036</td><td>5</td><td>05000000</td><td>36</td><td>S</td><td>Average weekly hours</td><td>1</td><td>5000000</td><td>-</td><td>A</td><td>Total private</td><td>1</td><td>T</td><td>2</td></tr>",
                            "<tr><td>CES0500000056</td><td>5</td><td>05000000</td><td>56</td><td>S</td><td>Aggregate weekly hours of all employees</td><td>1</td><td>5000000</td><td>-</td><td>A</td><td>Total private</td><td>1</td><td>T</td><td>2</td></tr>",
                            "<tr><td>CES0500000057</td><td>5</td><td>05000000</td><td>57</td><td>S</td><td>Aggregate weekly payrolls of all employees</td><td>1</td><td>5000000</td><td>-</td><td>A</td><td>Total private</td><td>1</td><td>T</td><td>2</td></tr>",
                            "<tr><td>CES0500000081</td><td>5</td><td>05000000</td><td>81</td><td>S</td><td>Aggregate weekly hours of production and nonsupervisory employees</td><td>1</td><td>5000000</td><td>-</td><td>A</td><td>Total private</td><td>1</td><td>T</td><td>2</td></tr>",
                            "<tr><td>CES0500000082</td><td>5</td><td>05000000</td><td>82</td><td>S</td><td>Aggregate weekly payrolls of production and nonsupervisory employees</td><td>1</td><td>5000000</td><td>-</td><td>A</td><td>Total private</td><td>1</td><td>T</td><td>2</td></tr>",
                            "<tr><td>CES0600000001</td><td>6</td><td>06000000</td><td>1</td><td>S</td><td>All employees</td><td>2</td><td>6000000</td><td>-</td><td>A</td><td>Goods-producing</td><td>1</td><td>T</td><td>3</td></tr>",
                            "<tr><td>CES0600000002</td><td>6</td><td>06000000</td><td>2</td><td>S</td><td>Average weekly hours of all employees</td><td>2</td><td>6000000</td><td>-</td><td>A</td><td>Goods-producing</td><td>1</td><td>T</td><td>3</td></tr>",
                            "<tr><td>CES0600000003</td><td>6</td><td>06000000</td><td>3</td><td>S</td><td>Average hourly earnings of all employees</td><td>2</td><td>6000000</td><td>-</td><td>A</td><td>Goods-producing</td><td>1</td><td>T</td><td>3</td></tr>",
                            "<tr><td>CES0600000006</td><td>6</td><td>06000000</td><td>6</td><td>S</td><td>Production and nonsupervisory employees</td><td>2</td><td>6000000</td><td>-</td><td>A</td><td>Goods-producing</td><td>1</td><td>T</td><td>3</td></tr>",
                            "<tr><td>CES0600000007</td><td>6</td><td>06000000</td><td>7</td><td>S</td><td>Average weekly hours of production and nonsupervisory employees</td><td>2</td><td>6000000</td><td>-</td><td>A</td><td>Goods-producing</td><td>1</td><td>T</td><td>3</td></tr>",
                            "<tr><td>CES0600000008</td><td>6</td><td>06000000</td><td>8</td><td>S</td><td>Average hourly earnings of production and nonsupervisory employees</td><td>2</td><td>6000000</td><td>-</td><td>A</td><td>Goods-producing</td><td>1</td><td>T</td><td>3</td></tr>",
                            "<tr><td>CES0600000010</td><td>6</td><td>06000000</td><td>10</td><td>S</td><td>Women employees</td><td>2</td><td>6000000</td><td>-</td><td>A</td><td>Goods-producing</td><td>1</td><td>T</td><td>3</td></tr>",
                            "<tr><td>CES0600000011</td><td>6</td><td>06000000</td><td>11</td><td>S</td><td>Average weekly earnings of all employees</td><td>2</td><td>6000000</td><td>-</td><td>A</td><td>Goods-producing</td><td>1</td><td>T</td><td>3</td></tr>",
                            "<tr><td>CES0600000012</td><td>6</td><td>06000000</td><td>12</td><td>S</td><td>Average weekly earnings of all employees</td><td>2</td><td>6000000</td><td>-</td><td>A</td><td>Goods-producing</td><td>1</td><td>T</td><td>3</td></tr>",
                            "<tr><td>CES0600000013</td><td>6</td><td>06000000</td><td>13</td><td>S</td><td>Average hourly earnings of all employees</td><td>2</td><td>6000000</td><td>-</td><td>A</td><td>Goods-producing</td><td>1</td><td>T</td><td>3</td></tr>",
                            "<tr><td>CES0600000016</td><td>6</td><td>06000000</td><td>16</td><td>S</td><td>Indexes of aggregate weekly hours of all employees</td><td>2</td><td>6000000</td><td>-</td><td>A</td><td>Goods-producing</td><td>1</td><td>T</td><td>3</td></tr>",
                            "<tr><td>CES0600000017</td><td>6</td><td>06000000</td><td>17</td><td>S</td><td>Indexes of aggregate weekly payrolls of all employees</td><td>2</td><td>6000000</td><td>-</td><td>A</td><td>Goods-producing</td><td>1</td><td>T</td><td>3</td></tr>",
                            "<tr><td>CES0600000025</td><td>6</td><td>06000000</td><td>25</td><td>S</td><td>All employees</td><td>2</td><td>6000000</td><td>-</td><td>A</td><td>Goods-producing</td><td>1</td><td>T</td><td>3</td></tr>",
                            "<tr><td>CES0600000030</td><td>6</td><td>06000000</td><td>30</td><td>S</td><td>Average weekly earnings of production and nonsupervisory employees</td><td>2</td><td>6000000</td><td>-</td><td>A</td><td>Goods-producing</td><td>1</td><td>T</td><td>3</td></tr>",
                            "<tr><td>CES0600000031</td><td>6</td><td>06000000</td><td>31</td><td>S</td><td>Average weekly earnings of production and nonsupervisory employees</td><td>2</td><td>6000000</td><td>-</td><td>A</td><td>Goods-producing</td><td>1</td><td>T</td><td>3</td></tr>",
                            "<tr><td>CES0600000032</td><td>6</td><td>06000000</td><td>32</td><td>S</td><td>Average hourly earnings of production and nonsupervisory employees</td><td>2</td><td>6000000</td><td>-</td><td>A</td><td>Goods-producing</td><td>1</td><td>T</td><td>3</td></tr>",
                            "<tr><td>CES0600000034</td><td>6</td><td>06000000</td><td>34</td><td>S</td><td>Indexes of aggregate weekly hours of production and nonsupervisory employees</td><td>2</td><td>6000000</td><td>-</td><td>A</td><td>Goods-producing</td><td>1</td><td>T</td><td>3</td></tr>",
                            "<tr><td>CES0600000035</td><td>6</td><td>06000000</td><td>35</td><td>S</td><td>Indexes of aggregate weekly payrolls of production and nonsupervisory employees</td><td>2</td><td>6000000</td><td>-</td><td>A</td><td>Goods-producing</td><td>1</td><td>T</td><td>3</td></tr>",
                            "</table>"
                        ]
                    }
                }
            ],
            "execution_count": 4
        },
        {
            "cell_type": "markdown",
            "source": [
                "## <span style=\"font-size: 12pt; font-family: Montserrat, sans-serif; color: rgb(53, 74, 95); background-color: rgb(255, 255, 255); font-weight: 700; font-variant-numeric: normal; font-variant-east-asian: normal; vertical-align: baseline; white-space: pre-wrap;\">Aggregate Your Friends and Code some SQL</span>\n",
                "\n",
                "<span style=\"font-size: 10pt; font-family: Arvo, serif; color: rgb(102, 102, 102); background-color: rgb(255, 255, 255); font-variant-numeric: normal; font-variant-east-asian: normal; vertical-align: baseline; white-space: pre-wrap;\">Put together the following:</span>\n",
                "\n",
                "1. <span style=\"background-color: rgb(255, 255, 255); font-size: 10pt; white-space: pre-wrap; color: rgb(102, 102, 102); font-family: Arvo, serif;\">How many employees were reported in 2016 in all industries? Round to the nearest whole number.&nbsp; No chopping people into little bits, please.</span>"
            ],
            "metadata": {
                "azdata_cell_guid": "f4290cc1-f824-4586-8850-59d926bf4460"
            },
            "attachments": {}
        },
        {
            "cell_type": "code",
            "source": [
                "SELECT ROUND(SUM([value]),0) AS total_employees\r\n",
                "FROM annual_2016\r\n",
                "WHERE series_id IN (\r\n",
                "    SELECT series_id\r\n",
                "    FROM series\r\n",
                "    WHERE data_type_code IN (\r\n",
                "        SELECT data_type_code\r\n",
                "        FROM datatype\r\n",
                "        WHERE data_type_text = 'ALL EMPLOYEES'\r\n",
                "    )\r\n",
                ")\r\n",
                "\r\n",
                ""
            ],
            "metadata": {
                "azdata_cell_guid": "25099068-a629-4eb5-afca-ed3748c40605",
                "language": "sql"
            },
            "outputs": [
                {
                    "output_type": "display_data",
                    "data": {
                        "text/html": "(1 row affected)"
                    },
                    "metadata": {}
                },
                {
                    "output_type": "display_data",
                    "data": {
                        "text/html": "Total execution time: 00:00:00.111"
                    },
                    "metadata": {}
                },
                {
                    "output_type": "execute_result",
                    "metadata": {},
                    "execution_count": 5,
                    "data": {
                        "application/vnd.dataresource+json": {
                            "schema": {
                                "fields": [
                                    {
                                        "name": "total_employees"
                                    }
                                ]
                            },
                            "data": [
                                {
                                    "total_employees": "2340612"
                                }
                            ]
                        },
                        "text/html": [
                            "<table>",
                            "<tr><th>total_employees</th></tr>",
                            "<tr><td>2340612</td></tr>",
                            "</table>"
                        ]
                    }
                }
            ],
            "execution_count": 5
        },
        {
            "cell_type": "markdown",
            "source": [
                "2. <span style=\"background-color: rgb(255, 255, 255); font-size: 10pt; white-space: pre-wrap; color: rgb(102, 102, 102); font-family: Arvo, serif;\">How many women employees were reported in 2016 in all industries? Round to the nearest whole number.&nbsp;</span>"
            ],
            "metadata": {
                "azdata_cell_guid": "6358fab4-b933-4646-bef1-4be66dcd4317"
            },
            "attachments": {}
        },
        {
            "cell_type": "code",
            "source": [
                "SELECT ROUND(SUM([value]),0) AS women_employees\r\n",
                "FROM annual_2016\r\n",
                "WHERE series_id IN (\r\n",
                "    SELECT series_id\r\n",
                "    FROM series\r\n",
                "    WHERE data_type_code = 10\r\n",
                ")"
            ],
            "metadata": {
                "azdata_cell_guid": "7bb0bfb7-b9e3-4672-b354-7ca705bb0c3b",
                "language": "sql"
            },
            "outputs": [
                {
                    "output_type": "display_data",
                    "data": {
                        "text/html": "(1 row affected)"
                    },
                    "metadata": {}
                },
                {
                    "output_type": "display_data",
                    "data": {
                        "text/html": "Total execution time: 00:00:00.078"
                    },
                    "metadata": {}
                },
                {
                    "output_type": "execute_result",
                    "execution_count": 20,
                    "data": {
                        "application/vnd.dataresource+json": {
                            "schema": {
                                "fields": [
                                    {
                                        "name": "women_employees"
                                    }
                                ]
                            },
                            "data": [
                                {
                                    "women_employees": "1125490"
                                }
                            ]
                        },
                        "text/html": "<table><tr><th>women_employees</th></tr><tr><td>1125490</td></tr></table>"
                    },
                    "metadata": {}
                }
            ],
            "execution_count": 20
        },
        {
            "cell_type": "markdown",
            "source": [
                "3. <span style=\"background-color: rgb(255, 255, 255); font-size: 10pt; white-space: pre-wrap; color: rgb(102, 102, 102); font-family: Arvo, serif;\">How many production/nonsupervisory employees were reported in 2016? Round to the nearest whole number.&nbsp;</span>"
            ],
            "metadata": {
                "azdata_cell_guid": "246ea683-2075-4337-878d-fbfdd49b2dd7"
            },
            "attachments": {}
        },
        {
            "cell_type": "code",
            "source": [
                "SELECT ROUND(SUM([value]),0) AS production_nonsup_employees\r\n",
                "FROM annual_2016\r\n",
                "WHERE series_id IN (\r\n",
                "    SELECT series_id\r\n",
                "    FROM series\r\n",
                "    WHERE data_type_code = 6\r\n",
                ")"
            ],
            "metadata": {
                "azdata_cell_guid": "110f2591-069b-4bbe-87c7-2bcf76c3d36f",
                "language": "sql"
            },
            "outputs": [
                {
                    "output_type": "display_data",
                    "data": {
                        "text/html": "(1 row affected)"
                    },
                    "metadata": {}
                },
                {
                    "output_type": "display_data",
                    "data": {
                        "text/html": "Total execution time: 00:00:00.073"
                    },
                    "metadata": {}
                },
                {
                    "output_type": "execute_result",
                    "execution_count": 22,
                    "data": {
                        "application/vnd.dataresource+json": {
                            "schema": {
                                "fields": [
                                    {
                                        "name": "production_nonsup_employees"
                                    }
                                ]
                            },
                            "data": [
                                {
                                    "production_nonsup_employees": "1263650"
                                }
                            ]
                        },
                        "text/html": "<table><tr><th>production_nonsup_employees</th></tr><tr><td>1263650</td></tr></table>"
                    },
                    "metadata": {}
                }
            ],
            "execution_count": 22
        },
        {
            "cell_type": "markdown",
            "source": [
                "4. <span style=\"background-color: rgb(255, 255, 255); font-size: 10pt; white-space: pre-wrap; color: rgb(102, 102, 102); font-family: Arvo, serif;\">In January 2017, what is the average weekly hours worked by production and nonsupervisory employees across all industries?</span>"
            ],
            "metadata": {
                "azdata_cell_guid": "9caa7f57-e39d-4b7a-b705-25f8fe29d60b"
            },
            "attachments": {}
        },
        {
            "cell_type": "code",
            "source": [
                "SELECT TOP 10*\r\n",
                "FROM datatype\r\n",
                "WHERE data_type_text LIKE '%average weekly%'\r\n",
                "\r\n",
                "SELECT ROUND(AVG([value]), 2) AS avg_wk_hrs_all\r\n",
                "FROM january_2017\r\n",
                "WHERE series_id IN (\r\n",
                "    SELECT series_id \r\n",
                "    FROM series\r\n",
                "    WHERE data_type_code = 7\r\n",
                ")\r\n",
                ""
            ],
            "metadata": {
                "azdata_cell_guid": "9f07fa8a-4217-439a-a9cd-831240d4bc9e",
                "language": "sql"
            },
            "outputs": [
                {
                    "output_type": "display_data",
                    "data": {
                        "text/html": "(10 rows affected)"
                    },
                    "metadata": {}
                },
                {
                    "output_type": "display_data",
                    "data": {
                        "text/html": "(1 row affected)"
                    },
                    "metadata": {}
                },
                {
                    "output_type": "display_data",
                    "data": {
                        "text/html": "Total execution time: 00:00:00.122"
                    },
                    "metadata": {}
                },
                {
                    "output_type": "execute_result",
                    "execution_count": 29,
                    "data": {
                        "application/vnd.dataresource+json": {
                            "schema": {
                                "fields": [
                                    {
                                        "name": "data_type_code"
                                    },
                                    {
                                        "name": "data_type_text"
                                    }
                                ]
                            },
                            "data": [
                                {
                                    "data_type_code": "2",
                                    "data_type_text": "AVERAGE WEEKLY HOURS OF ALL EMPLOYEES"
                                },
                                {
                                    "data_type_code": "4",
                                    "data_type_text": "AVERAGE WEEKLY OVERTIME HOURS OF ALL EMPLOYEES"
                                },
                                {
                                    "data_type_code": "7",
                                    "data_type_text": "AVERAGE WEEKLY HOURS OF PRODUCTION AND NONSUPERVISORY EMPLOYEES"
                                },
                                {
                                    "data_type_code": "9",
                                    "data_type_text": "AVERAGE WEEKLY OVERTIME HOURS OF PRODUCTION AND NONSUPERVISORY EMPLOYEES"
                                },
                                {
                                    "data_type_code": "11",
                                    "data_type_text": "AVERAGE WEEKLY EARNINGS OF ALL EMPLOYEES"
                                },
                                {
                                    "data_type_code": "12",
                                    "data_type_text": "AVERAGE WEEKLY EARNINGS OF ALL EMPLOYEES"
                                },
                                {
                                    "data_type_code": "19",
                                    "data_type_text": "AVERAGE WEEKLY HOURS OF ALL EMPLOYEES"
                                },
                                {
                                    "data_type_code": "20",
                                    "data_type_text": "AVERAGE WEEKLY OVERTIME HOURS OF ALL EMPLOYEES"
                                },
                                {
                                    "data_type_code": "30",
                                    "data_type_text": "AVERAGE WEEKLY EARNINGS OF PRODUCTION AND NONSUPERVISORY EMPLOYEES"
                                },
                                {
                                    "data_type_code": "31",
                                    "data_type_text": "AVERAGE WEEKLY EARNINGS OF PRODUCTION AND NONSUPERVISORY EMPLOYEES"
                                }
                            ]
                        },
                        "text/html": "<table><tr><th>data_type_code</th><th>data_type_text</th></tr><tr><td>2</td><td>AVERAGE WEEKLY HOURS OF ALL EMPLOYEES</td></tr><tr><td>4</td><td>AVERAGE WEEKLY OVERTIME HOURS OF ALL EMPLOYEES</td></tr><tr><td>7</td><td>AVERAGE WEEKLY HOURS OF PRODUCTION AND NONSUPERVISORY EMPLOYEES</td></tr><tr><td>9</td><td>AVERAGE WEEKLY OVERTIME HOURS OF PRODUCTION AND NONSUPERVISORY EMPLOYEES</td></tr><tr><td>11</td><td>AVERAGE WEEKLY EARNINGS OF ALL EMPLOYEES</td></tr><tr><td>12</td><td>AVERAGE WEEKLY EARNINGS OF ALL EMPLOYEES</td></tr><tr><td>19</td><td>AVERAGE WEEKLY HOURS OF ALL EMPLOYEES</td></tr><tr><td>20</td><td>AVERAGE WEEKLY OVERTIME HOURS OF ALL EMPLOYEES</td></tr><tr><td>30</td><td>AVERAGE WEEKLY EARNINGS OF PRODUCTION AND NONSUPERVISORY EMPLOYEES</td></tr><tr><td>31</td><td>AVERAGE WEEKLY EARNINGS OF PRODUCTION AND NONSUPERVISORY EMPLOYEES</td></tr></table>"
                    },
                    "metadata": {}
                },
                {
                    "output_type": "execute_result",
                    "execution_count": 29,
                    "data": {
                        "application/vnd.dataresource+json": {
                            "schema": {
                                "fields": [
                                    {
                                        "name": "avg_wk_hrs_all"
                                    }
                                ]
                            },
                            "data": [
                                {
                                    "avg_wk_hrs_all": "36.06"
                                }
                            ]
                        },
                        "text/html": "<table><tr><th>avg_wk_hrs_all</th></tr><tr><td>36.06</td></tr></table>"
                    },
                    "metadata": {}
                }
            ],
            "execution_count": 29
        },
        {
            "cell_type": "markdown",
            "source": [
                "5. <span style=\"background-color: rgb(255, 255, 255); font-size: 10pt; white-space: pre-wrap; color: rgb(102, 102, 102); font-family: Arvo, serif;\">What is the total weekly payroll for production and nonsupervisory employees across all industries in January 2017? Round to the nearest penny, please.</span>"
            ],
            "metadata": {
                "azdata_cell_guid": "9c48ff2e-a6eb-4f02-8df2-988e219fbc00"
            },
            "attachments": {}
        },
        {
            "cell_type": "code",
            "source": [
                "SELECT TOP 10*\r\n",
                "FROM datatype\r\n",
                "WHERE data_type_text LIKE '%weekly payroll%'\r\n",
                "\r\n",
                "SELECT ROUND(SUM([value]), 2) AS total_wk_payroll_product_nonsup\r\n",
                "FROM january_2017\r\n",
                "WHERE series_id IN (\r\n",
                "    SELECT series_id \r\n",
                "    FROM series\r\n",
                "    WHERE data_type_code = 82\r\n",
                ")"
            ],
            "metadata": {
                "azdata_cell_guid": "c565641b-f1fa-4dbb-9320-24adfda97ca5",
                "language": "sql"
            },
            "outputs": [
                {
                    "output_type": "display_data",
                    "data": {
                        "text/html": "(4 rows affected)"
                    },
                    "metadata": {}
                },
                {
                    "output_type": "display_data",
                    "data": {
                        "text/html": "(1 row affected)"
                    },
                    "metadata": {}
                },
                {
                    "output_type": "display_data",
                    "data": {
                        "text/html": "Total execution time: 00:00:00.143"
                    },
                    "metadata": {}
                },
                {
                    "output_type": "execute_result",
                    "execution_count": 27,
                    "data": {
                        "application/vnd.dataresource+json": {
                            "schema": {
                                "fields": [
                                    {
                                        "name": "data_type_code"
                                    },
                                    {
                                        "name": "data_type_text"
                                    }
                                ]
                            },
                            "data": [
                                {
                                    "data_type_code": "17",
                                    "data_type_text": "INDEXES OF AGGREGATE WEEKLY PAYROLLS OF ALL EMPLOYEES"
                                },
                                {
                                    "data_type_code": "35",
                                    "data_type_text": "INDEXES OF AGGREGATE WEEKLY PAYROLLS OF PRODUCTION AND NONSUPERVISORY EMPLOYEES"
                                },
                                {
                                    "data_type_code": "57",
                                    "data_type_text": "AGGREGATE WEEKLY PAYROLLS OF ALL EMPLOYEES"
                                },
                                {
                                    "data_type_code": "82",
                                    "data_type_text": "AGGREGATE WEEKLY PAYROLLS OF PRODUCTION AND NONSUPERVISORY EMPLOYEES"
                                }
                            ]
                        },
                        "text/html": "<table><tr><th>data_type_code</th><th>data_type_text</th></tr><tr><td>17</td><td>INDEXES OF AGGREGATE WEEKLY PAYROLLS OF ALL EMPLOYEES</td></tr><tr><td>35</td><td>INDEXES OF AGGREGATE WEEKLY PAYROLLS OF PRODUCTION AND NONSUPERVISORY EMPLOYEES</td></tr><tr><td>57</td><td>AGGREGATE WEEKLY PAYROLLS OF ALL EMPLOYEES</td></tr><tr><td>82</td><td>AGGREGATE WEEKLY PAYROLLS OF PRODUCTION AND NONSUPERVISORY EMPLOYEES</td></tr></table>"
                    },
                    "metadata": {}
                },
                {
                    "output_type": "execute_result",
                    "execution_count": 27,
                    "data": {
                        "application/vnd.dataresource+json": {
                            "schema": {
                                "fields": [
                                    {
                                        "name": "total_wk_payroll_product_nonsup"
                                    }
                                ]
                            },
                            "data": [
                                {
                                    "total_wk_payroll_product_nonsup": "1838753220"
                                }
                            ]
                        },
                        "text/html": "<table><tr><th>total_wk_payroll_product_nonsup</th></tr><tr><td>1838753220</td></tr></table>"
                    },
                    "metadata": {}
                }
            ],
            "execution_count": 27
        },
        {
            "cell_type": "markdown",
            "source": [
                "6. <span style=\"background-color: rgb(255, 255, 255); font-size: 10pt; white-space: pre-wrap; color: rgb(102, 102, 102); font-family: Arvo, serif;\">In January 2017, which industry was the average weekly hours worked by production and nonsupervisory employees the highest? Which industry was the lowest?</span>"
            ],
            "metadata": {
                "azdata_cell_guid": "862fd406-4fff-49bb-9d2b-232275a06405"
            },
            "attachments": {}
        },
        {
            "cell_type": "code",
            "source": [
                "SELECT TOP 1 industry_name, ROUND(AVG(value), 2) AS highest_average FROM january_2017\r\n",
                "JOIN series ON series.series_id = january_2017.series_id\r\n",
                "JOIN industry ON industry.industry_code = series.industry_code\r\n",
                "WHERE series_title = 'Average weekly hours of production and nonsupervisory employees'\r\n",
                "GROUP BY industry_name\r\n",
                "ORDER BY 'highest_average' DESC;\r\n",
                "\r\n",
                "\r\n",
                "SELECT TOP 1 industry_name, ROUND(AVG(value), 2) AS lowest_avg FROM january_2017\r\n",
                "JOIN series ON series.series_id = january_2017.series_id\r\n",
                "JOIN industry ON industry.industry_code = series.industry_code\r\n",
                "WHERE series_title = 'Average weekly hours of production and nonsupervisory employees'\r\n",
                "GROUP BY industry_name\r\n",
                "ORDER BY 'lowest_avg' ASC; \r\n",
                "\r\n",
                ""
            ],
            "metadata": {
                "azdata_cell_guid": "01e11050-5f2f-4d22-92e0-2b3024b80a5f",
                "language": "sql",
                "tags": [
                    "hide_input"
                ]
            },
            "outputs": [
                {
                    "output_type": "display_data",
                    "data": {
                        "text/html": "(1 row affected)"
                    },
                    "metadata": {}
                },
                {
                    "output_type": "display_data",
                    "data": {
                        "text/html": "(1 row affected)"
                    },
                    "metadata": {}
                },
                {
                    "output_type": "display_data",
                    "data": {
                        "text/html": "Total execution time: 00:00:00.161"
                    },
                    "metadata": {}
                },
                {
                    "output_type": "execute_result",
                    "execution_count": 46,
                    "data": {
                        "application/vnd.dataresource+json": {
                            "schema": {
                                "fields": [
                                    {
                                        "name": "industry_name"
                                    },
                                    {
                                        "name": "highest_average"
                                    }
                                ]
                            },
                            "data": [
                                {
                                    "industry_name": "Motor vehicle power train components",
                                    "highest_average": "49.6"
                                }
                            ]
                        },
                        "text/html": "<table><tr><th>industry_name</th><th>highest_average</th></tr><tr><td>Motor vehicle power train components</td><td>49.6</td></tr></table>"
                    },
                    "metadata": {}
                },
                {
                    "output_type": "execute_result",
                    "execution_count": 46,
                    "data": {
                        "application/vnd.dataresource+json": {
                            "schema": {
                                "fields": [
                                    {
                                        "name": "industry_name"
                                    },
                                    {
                                        "name": "lowest_avg"
                                    }
                                ]
                            },
                            "data": [
                                {
                                    "industry_name": "Fitness and recreational sports centers",
                                    "lowest_avg": "16.85"
                                }
                            ]
                        },
                        "text/html": "<table><tr><th>industry_name</th><th>lowest_avg</th></tr><tr><td>Fitness and recreational sports centers</td><td>16.85</td></tr></table>"
                    },
                    "metadata": {}
                }
            ],
            "execution_count": 46
        },
        {
            "cell_type": "markdown",
            "source": [
                "7. <span style=\"background-color: rgb(255, 255, 255); font-size: 10pt; white-space: pre-wrap; color: rgb(102, 102, 102); font-family: Arvo, serif;\">In January 2021, which industry was the total weekly payroll for production and nonsupervisory employees the highest? Which industry was the lowest?</span>\n",
                "\n",
                "<span style=\"font-size: 13.3333px; white-space: pre-wrap;\">highest: Farm product rall material</span>\n",
                "\n",
                "<span style=\"font-size: 13.3333px; white-space: pre-wrap;\">Lowest: Tile and Terrazo</span>"
            ],
            "metadata": {
                "azdata_cell_guid": "a53f4113-60c6-46d1-b9a3-34610c61d4f9"
            },
            "attachments": {}
        },
        {
            "cell_type": "code",
            "source": [
                "SELECT TOP(1)SUM([value]) AS highest_total, i.industry_name\r\n",
                "FROM january_2017\r\n",
                "JOIN industry AS i ON january_2017.id = i.id\r\n",
                "JOIN series as s ON i.industry_code = s.industry_code\r\n",
                "WHERE s.data_type_code = 82\r\n",
                "GROUP BY i.industry_name\r\n",
                "ORDER BY MAX([value]) DESC;\r\n",
                "\r\n",
                "SELECT TOP(1)SUM([value]) AS lowest_total, i.industry_name\r\n",
                "FROM january_2017\r\n",
                "JOIN industry AS i ON january_2017.id = i.id\r\n",
                "JOIN series AS s ON i.industry_code = s.industry_code \r\n",
                "WHERE s.data_type_code = 82\r\n",
                "GROUP BY i.industry_name\r\n",
                "ORDER BY MAX([value]) ASC; "
            ],
            "metadata": {
                "azdata_cell_guid": "583695e6-7438-4e03-8970-1fe0c677a793",
                "language": "sql",
                "tags": []
            },
            "outputs": [
                {
                    "output_type": "display_data",
                    "data": {
                        "text/html": "(1 row affected)"
                    },
                    "metadata": {}
                },
                {
                    "output_type": "display_data",
                    "data": {
                        "text/html": "(1 row affected)"
                    },
                    "metadata": {}
                },
                {
                    "output_type": "display_data",
                    "data": {
                        "text/html": "Total execution time: 00:00:00.166"
                    },
                    "metadata": {}
                },
                {
                    "output_type": "execute_result",
                    "execution_count": 59,
                    "data": {
                        "application/vnd.dataresource+json": {
                            "schema": {
                                "fields": [
                                    {
                                        "name": "highest_total"
                                    },
                                    {
                                        "name": "industry_name"
                                    }
                                ]
                            },
                            "data": [
                                {
                                    "highest_total": "12934852",
                                    "industry_name": "Farm product raw materials"
                                }
                            ]
                        },
                        "text/html": "<table><tr><th>highest_total</th><th>industry_name</th></tr><tr><td>12934852</td><td>Farm product raw materials</td></tr></table>"
                    },
                    "metadata": {}
                },
                {
                    "output_type": "execute_result",
                    "execution_count": 59,
                    "data": {
                        "application/vnd.dataresource+json": {
                            "schema": {
                                "fields": [
                                    {
                                        "name": "lowest_total"
                                    },
                                    {
                                        "name": "industry_name"
                                    }
                                ]
                            },
                            "data": [
                                {
                                    "lowest_total": "13.26",
                                    "industry_name": "Tile and terrazzo contractors"
                                }
                            ]
                        },
                        "text/html": "<table><tr><th>lowest_total</th><th>industry_name</th></tr><tr><td>13.26</td><td>Tile and terrazzo contractors</td></tr></table>"
                    },
                    "metadata": {}
                }
            ],
            "execution_count": 59
        },
        {
            "cell_type": "markdown",
            "source": [
                "## <span style=\"font-size: 12pt; font-family: Montserrat, sans-serif; color: rgb(53, 74, 95); background-color: rgb(255, 255, 255); font-weight: 700; font-variant-numeric: normal; font-variant-east-asian: normal; vertical-align: baseline; white-space: pre-wrap;\">Subqueries, Unions, Derived Tables, Oh My!</span>\n",
                "\n",
                "1. <span style=\"background-color: rgb(255, 255, 255); font-size: 10pt; white-space: pre-wrap; color: rgb(102, 102, 102); font-family: Arvo, serif;\">Write a query that returns the series_id, industry_code, industry_name, and value from the january_2017 table but only if that value is greater than the average value for annual_2016 of data_type_code 82.</span>"
            ],
            "metadata": {
                "azdata_cell_guid": "e98ec195-5399-4718-83ef-54fb954662a5"
            },
            "attachments": {}
        },
        {
            "cell_type": "code",
            "source": [
                "SELECT TOP(25)series_id, i.industry_code, i.industry_name, j.[value]\r\n",
                "FROM january_2017 AS j, industry AS i, datatype AS d\r\n",
                "WHERE j.[value] >\r\n",
                "    (SELECT AVG(a.value)\r\n",
                "    FROM annual_2016 AS a\r\n",
                "    WHERE d.data_type_code = 82);"
            ],
            "metadata": {
                "azdata_cell_guid": "7c85f70b-528f-4cbd-bd8e-a6efab1c18df",
                "language": "sql"
            },
            "outputs": [
                {
                    "output_type": "display_data",
                    "data": {
                        "text/html": "(25 rows affected)"
                    },
                    "metadata": {}
                },
                {
                    "output_type": "display_data",
                    "data": {
                        "text/html": "Total execution time: 00:00:00.081"
                    },
                    "metadata": {}
                },
                {
                    "output_type": "execute_result",
                    "execution_count": 66,
                    "data": {
                        "application/vnd.dataresource+json": {
                            "schema": {
                                "fields": [
                                    {
                                        "name": "series_id"
                                    },
                                    {
                                        "name": "industry_code"
                                    },
                                    {
                                        "name": "industry_name"
                                    },
                                    {
                                        "name": "value"
                                    }
                                ]
                            },
                            "data": [
                                {
                                    "series_id": "CES5500000081",
                                    "industry_code": "0",
                                    "industry_name": "Total nonfarm",
                                    "value": "240920"
                                },
                                {
                                    "series_id": "CES5500000081",
                                    "industry_code": "5000000",
                                    "industry_name": "Total private",
                                    "value": "240920"
                                },
                                {
                                    "series_id": "CES5500000081",
                                    "industry_code": "6000000",
                                    "industry_name": "Goods-producing",
                                    "value": "240920"
                                },
                                {
                                    "series_id": "CES5500000081",
                                    "industry_code": "7000000",
                                    "industry_name": "Service-providing",
                                    "value": "240920"
                                },
                                {
                                    "series_id": "CES5500000081",
                                    "industry_code": "8000000",
                                    "industry_name": "Private service-providing",
                                    "value": "240920"
                                },
                                {
                                    "series_id": "CES5500000081",
                                    "industry_code": "10000000",
                                    "industry_name": "Mining and logging",
                                    "value": "240920"
                                },
                                {
                                    "series_id": "CES5500000081",
                                    "industry_code": "10113300",
                                    "industry_name": "Logging",
                                    "value": "240920"
                                },
                                {
                                    "series_id": "CES5500000081",
                                    "industry_code": "10210000",
                                    "industry_name": "Mining",
                                    "value": "240920"
                                },
                                {
                                    "series_id": "CES5500000081",
                                    "industry_code": "10211000",
                                    "industry_name": "Oil and gas extraction",
                                    "value": "240920"
                                },
                                {
                                    "series_id": "CES5500000081",
                                    "industry_code": "10212000",
                                    "industry_name": "Mining",
                                    "value": "240920"
                                },
                                {
                                    "series_id": "CES5500000081",
                                    "industry_code": "10212100",
                                    "industry_name": "Coal mining",
                                    "value": "240920"
                                },
                                {
                                    "series_id": "CES5500000081",
                                    "industry_code": "10212111",
                                    "industry_name": "Bituminous coal and lignite surface mining",
                                    "value": "240920"
                                },
                                {
                                    "series_id": "CES5500000081",
                                    "industry_code": "10212113",
                                    "industry_name": "NULL",
                                    "value": "240920"
                                },
                                {
                                    "series_id": "CES5500000081",
                                    "industry_code": "10212200",
                                    "industry_name": "Metal ore mining",
                                    "value": "240920"
                                },
                                {
                                    "series_id": "CES5500000081",
                                    "industry_code": "10212300",
                                    "industry_name": "Nonmetallic mineral mining and quarrying",
                                    "value": "240920"
                                },
                                {
                                    "series_id": "CES5500000081",
                                    "industry_code": "10212310",
                                    "industry_name": "Stone mining and quarrying",
                                    "value": "240920"
                                },
                                {
                                    "series_id": "CES5500000081",
                                    "industry_code": "10212312",
                                    "industry_name": "Crushed and broken limestone mining",
                                    "value": "240920"
                                },
                                {
                                    "series_id": "CES5500000081",
                                    "industry_code": "10212319",
                                    "industry_name": "NULL",
                                    "value": "240920"
                                },
                                {
                                    "series_id": "CES5500000081",
                                    "industry_code": "10212320",
                                    "industry_name": "Sand",
                                    "value": "240920"
                                },
                                {
                                    "series_id": "CES5500000081",
                                    "industry_code": "10212321",
                                    "industry_name": "Construction sand and gravel mining",
                                    "value": "240920"
                                },
                                {
                                    "series_id": "CES5500000081",
                                    "industry_code": "10212390",
                                    "industry_name": "Other nonmetallic mineral mining",
                                    "value": "240920"
                                },
                                {
                                    "series_id": "CES5500000081",
                                    "industry_code": "10213000",
                                    "industry_name": "Support activities for mining",
                                    "value": "240920"
                                },
                                {
                                    "series_id": "CES5500000081",
                                    "industry_code": "10213112",
                                    "industry_name": "Support activities for oil and gas operations",
                                    "value": "240920"
                                },
                                {
                                    "series_id": "CES5500000081",
                                    "industry_code": "20000000",
                                    "industry_name": "Construction",
                                    "value": "240920"
                                },
                                {
                                    "series_id": "CES5500000081",
                                    "industry_code": "20236000",
                                    "industry_name": "Construction of buildings",
                                    "value": "240920"
                                }
                            ]
                        },
                        "text/html": "<table><tr><th>series_id</th><th>industry_code</th><th>industry_name</th><th>value</th></tr><tr><td>CES5500000081</td><td>0</td><td>Total nonfarm</td><td>240920</td></tr><tr><td>CES5500000081</td><td>5000000</td><td>Total private</td><td>240920</td></tr><tr><td>CES5500000081</td><td>6000000</td><td>Goods-producing</td><td>240920</td></tr><tr><td>CES5500000081</td><td>7000000</td><td>Service-providing</td><td>240920</td></tr><tr><td>CES5500000081</td><td>8000000</td><td>Private service-providing</td><td>240920</td></tr><tr><td>CES5500000081</td><td>10000000</td><td>Mining and logging</td><td>240920</td></tr><tr><td>CES5500000081</td><td>10113300</td><td>Logging</td><td>240920</td></tr><tr><td>CES5500000081</td><td>10210000</td><td>Mining</td><td>240920</td></tr><tr><td>CES5500000081</td><td>10211000</td><td>Oil and gas extraction</td><td>240920</td></tr><tr><td>CES5500000081</td><td>10212000</td><td>Mining</td><td>240920</td></tr><tr><td>CES5500000081</td><td>10212100</td><td>Coal mining</td><td>240920</td></tr><tr><td>CES5500000081</td><td>10212111</td><td>Bituminous coal and lignite surface mining</td><td>240920</td></tr><tr><td>CES5500000081</td><td>10212113</td><td>NULL</td><td>240920</td></tr><tr><td>CES5500000081</td><td>10212200</td><td>Metal ore mining</td><td>240920</td></tr><tr><td>CES5500000081</td><td>10212300</td><td>Nonmetallic mineral mining and quarrying</td><td>240920</td></tr><tr><td>CES5500000081</td><td>10212310</td><td>Stone mining and quarrying</td><td>240920</td></tr><tr><td>CES5500000081</td><td>10212312</td><td>Crushed and broken limestone mining</td><td>240920</td></tr><tr><td>CES5500000081</td><td>10212319</td><td>NULL</td><td>240920</td></tr><tr><td>CES5500000081</td><td>10212320</td><td>Sand</td><td>240920</td></tr><tr><td>CES5500000081</td><td>10212321</td><td>Construction sand and gravel mining</td><td>240920</td></tr><tr><td>CES5500000081</td><td>10212390</td><td>Other nonmetallic mineral mining</td><td>240920</td></tr><tr><td>CES5500000081</td><td>10213000</td><td>Support activities for mining</td><td>240920</td></tr><tr><td>CES5500000081</td><td>10213112</td><td>Support activities for oil and gas operations</td><td>240920</td></tr><tr><td>CES5500000081</td><td>20000000</td><td>Construction</td><td>240920</td></tr><tr><td>CES5500000081</td><td>20236000</td><td>Construction of buildings</td><td>240920</td></tr></table>"
                    },
                    "metadata": {}
                }
            ],
            "execution_count": 66
        },
        {
            "cell_type": "markdown",
            "source": [
                "2. <span style=\"background-color: rgb(255, 255, 255); font-size: 10pt; white-space: pre-wrap; color: rgb(102, 102, 102); font-family: Arvo, serif;\">Create a Union table comparing average weekly earnings&nbsp; of production and nonsupervisory employees between annual_16 and january_17 using the data type 30.&nbsp; Round to the nearest penny.&nbsp; You should have a column for the average earnings and a column for the year, and the period.</span>"
            ],
            "metadata": {
                "azdata_cell_guid": "1bb0ed09-4b02-4132-910e-5903697628af"
            },
            "attachments": {}
        },
        {
            "cell_type": "code",
            "source": [
                "SELECT [year], [period], ROUND(AVG([value]), 2) AS avg_earnings\r\n",
                "FROM january_2017\r\n",
                "JOIN series ON series.series_id= january_2017.series_id\r\n",
                "WHERE data_type_code = 30\r\n",
                "GROUP BY [year], [period]\r\n",
                "UNION \r\n",
                "SELECT [year], [period], ROUND(AVG([value]), 2) AS avg_earnings\r\n",
                "FROM annual_2016\r\n",
                "JOIN series ON series.series_id = annual_2016.series_id\r\n",
                "WHERE data_type_code = 30\r\n",
                "GROUP BY [year] , [period]\r\n",
                "\r\n",
                " "
            ],
            "metadata": {
                "azdata_cell_guid": "0841b6d6-9af2-41ba-8e28-dc40d08bd061",
                "language": "sql",
                "tags": [
                    "hide_input"
                ]
            },
            "outputs": [
                {
                    "output_type": "display_data",
                    "data": {
                        "text/html": "(2 rows affected)"
                    },
                    "metadata": {}
                },
                {
                    "output_type": "display_data",
                    "data": {
                        "text/html": "Total execution time: 00:00:00.136"
                    },
                    "metadata": {}
                },
                {
                    "output_type": "execute_result",
                    "execution_count": 64,
                    "data": {
                        "application/vnd.dataresource+json": {
                            "schema": {
                                "fields": [
                                    {
                                        "name": "year"
                                    },
                                    {
                                        "name": "period"
                                    },
                                    {
                                        "name": "avg_earnings"
                                    }
                                ]
                            },
                            "data": [
                                {
                                    "year": "2016",
                                    "period": "M13",
                                    "avg_earnings": "797.2"
                                },
                                {
                                    "year": "2017",
                                    "period": "M01",
                                    "avg_earnings": "808.53"
                                }
                            ]
                        },
                        "text/html": "<table><tr><th>year</th><th>period</th><th>avg_earnings</th></tr><tr><td>2016</td><td>M13</td><td>797.2</td></tr><tr><td>2017</td><td>M01</td><td>808.53</td></tr></table>"
                    },
                    "metadata": {}
                }
            ],
            "execution_count": 64
        },
        {
            "cell_type": "markdown",
            "source": [
                "## <span style=\"font-size:12pt;font-family:Montserrat, sans-serif;color:rgb(53, 74, 95);background-color:rgb(255, 255, 255);font-weight:700;vertical-align:baseline;white-space:pre-wrap;\">Summarize Your Results</span>\n",
                "\n",
                "<span style=\"font-size:10pt;font-family:Arvo, serif;color:rgb(102, 102, 102);background-color:rgb(255, 255, 255);vertical-align:baseline;white-space:pre-wrap;\">With what you know now about the </span> <span style=\"background-color:rgb(255, 255, 255);color:rgb(102, 102, 102);font-family:&quot;Times New Roman&quot;;font-size:13.3333px;white-space:pre-wrap;\">Bureau of Labor Statistics (BLS) Current Employment Survey (CES) results and working with the</span> <span style=\"color:rgb(102, 102, 102);white-space:pre-wrap;font-family:&quot;Times New Roman&quot;;font-size:13.3333px;\">Labor Statistics Database</span><span style=\"background-color:rgb(255, 255, 255);color:rgb(102, 102, 102);font-family:Arvo, serif;font-size:10pt;white-space:pre-wrap;\">, answer the following questions. Note that while this is subjective, you should include relevant data to back up your opinion.</span>\n",
                "\n",
                "1. <span style=\"background-color:rgb(255, 255, 255);font-size:10pt;white-space:pre-wrap;color:rgb(102, 102, 102);font-family:Arvo, serif;\">During which time period did production and nonsupervisory employees fare better?</span>"
            ],
            "metadata": {
                "azdata_cell_guid": "780f65a6-b9e7-4f24-9132-293c47f559e8"
            },
            "attachments": {}
        },
        {
            "cell_type": "markdown",
            "source": [
                "During MO1 year 2017 the production did better."
            ],
            "metadata": {
                "azdata_cell_guid": "f11f1fb2-f7d1-41e5-bc9c-84087d7cfc93"
            },
            "attachments": {}
        },
        {
            "cell_type": "markdown",
            "source": [
                "2. <span style=\"background-color: rgb(255, 255, 255); font-size: 10pt; white-space: pre-wrap; color: rgb(102, 102, 102); font-family: Arvo, serif;\">In which industries did production and nonsupervisory employees fare better?</span>"
            ],
            "metadata": {
                "azdata_cell_guid": "f606e5e5-f6f1-4070-bbfa-e31617b43e56"
            },
            "attachments": {}
        },
        {
            "cell_type": "markdown",
            "source": [
                "nonfarm, private, good producing, and many more"
            ],
            "metadata": {
                "azdata_cell_guid": "94e18f5d-b87b-4ba6-b1fd-bde035dafc04"
            },
            "attachments": {}
        },
        {
            "cell_type": "markdown",
            "source": [
                "3. <span style=\"font-size: 10pt; font-family: Arvo, serif; color: rgb(102, 102, 102); background-color: rgb(255, 255, 255); font-variant-numeric: normal; font-variant-east-asian: normal; vertical-align: baseline; white-space: pre-wrap;\">Now that you have explored the datasets, is there any data or information that you wish you had in this analysis?</span>"
            ],
            "metadata": {
                "azdata_cell_guid": "101e4449-601a-46c6-b217-23f3339cfa76"
            },
            "attachments": {}
        },
        {
            "cell_type": "markdown",
            "source": [
                "The datasets had quite a lot of information, due to question 7 I wish there was more current data, past 2017"
            ],
            "metadata": {
                "azdata_cell_guid": "d07e9180-f5e0-49b4-b395-2c6c8a5f8aac"
            },
            "attachments": {}
        }
    ]
}